{
 "cells": [
  {
   "cell_type": "code",
   "execution_count": 20,
   "id": "543bf1ab-b101-4449-9c48-6fafd7e2b947",
   "metadata": {},
   "outputs": [],
   "source": [
    "import json\n",
    "\n",
    "import pandas as pd\n",
    "import requests\n",
    "\n",
    "from utils import DistributorApi"
   ]
  },
  {
   "cell_type": "code",
   "execution_count": 21,
   "id": "b9f0282a-65cd-4216-8d04-dfe5efd4f5ff",
   "metadata": {},
   "outputs": [],
   "source": [
    "api = DistributorApi()"
   ]
  },
  {
   "cell_type": "code",
   "execution_count": 27,
   "id": "0f596904-0eeb-49fe-b72d-fc062d6903f2",
   "metadata": {},
   "outputs": [],
   "source": [
    "get_agencies_url = \"http://distributor.masters.api.pro.logitravel.internal/api/organizations/lgt/products/agencies/master\""
   ]
  },
  {
   "cell_type": "code",
   "execution_count": 28,
   "id": "3068d6bb-a210-4e6a-90fe-845c4d6aec39",
   "metadata": {},
   "outputs": [],
   "source": [
    "agencies_data = requests.get(url=get_agencies_url, headers=api.headers)"
   ]
  },
  {
   "cell_type": "code",
   "execution_count": 29,
   "id": "cf8974f6-5be5-435e-892a-4c743691ccfc",
   "metadata": {},
   "outputs": [],
   "source": [
    "credentials = agencies_data.json().get(\"clientes\", {}).get(\"cliente\", [])\n",
    "\n",
    "try:\n",
    "    df = pd.DataFrame(credentials)\n",
    "\n",
    "    dtype_mapping = {\n",
    "        \"code\": \"string\",\n",
    "        \"name\": \"string\",\n",
    "        \"completeCode\": \"string\",\n",
    "        \"applicationCode\": \"string\",\n",
    "        \"societyCode\": \"string\",\n",
    "        \"societyName\": \"string\",\n",
    "        \"isActive\": \"bool\",\n",
    "    }\n",
    "    df = df.astype(dtype_mapping)\n",
    "\n",
    "except Exception as e:\n",
    "    print(f\"Error creating DataFrame: {e}\")\n",
    "    df = pd.DataFrame()"
   ]
  },
  {
   "cell_type": "code",
   "execution_count": 30,
   "id": "220fdcd9-aa45-4ad5-b335-deed788f2c11",
   "metadata": {},
   "outputs": [
    {
     "data": {
      "text/plain": [
       "2453"
      ]
     },
     "execution_count": 30,
     "metadata": {},
     "output_type": "execute_result"
    }
   ],
   "source": [
    "len(credentials)"
   ]
  },
  {
   "cell_type": "code",
   "execution_count": 31,
   "id": "0b87d6cf-9530-4665-a589-11f15f393be2",
   "metadata": {},
   "outputs": [],
   "source": [
    "df.to_csv(\"credentials.csv\", index=False)"
   ]
  },
  {
   "cell_type": "code",
   "execution_count": null,
   "id": "6303ac7a-d5b9-4955-8620-21e909b8d1fb",
   "metadata": {},
   "outputs": [],
   "source": []
  }
 ],
 "metadata": {
  "kernelspec": {
   "display_name": "Python 3 (ipykernel)",
   "language": "python",
   "name": "python3"
  },
  "language_info": {
   "codemirror_mode": {
    "name": "ipython",
    "version": 3
   },
   "file_extension": ".py",
   "mimetype": "text/x-python",
   "name": "python",
   "nbconvert_exporter": "python",
   "pygments_lexer": "ipython3",
   "version": "3.11.6"
  }
 },
 "nbformat": 4,
 "nbformat_minor": 5
}
