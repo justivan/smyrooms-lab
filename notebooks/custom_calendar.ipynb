{
 "cells": [
  {
   "cell_type": "code",
   "execution_count": 1,
   "id": "ad907cd6-9020-4b3e-9143-05675edccc67",
   "metadata": {},
   "outputs": [],
   "source": [
    "import pandas as pd\n",
    "\n",
    "pd.set_option(\"display.max_columns\", None)"
   ]
  },
  {
   "cell_type": "code",
   "execution_count": 52,
   "id": "4d48286a-9e56-40a2-a26c-5a680e1b532f",
   "metadata": {},
   "outputs": [],
   "source": [
    "current_date = pd.Timestamp.today()  # Example: 2024-04-15"
   ]
  },
  {
   "cell_type": "code",
   "execution_count": 60,
   "id": "71ace556-8f9d-4cef-ad56-985617ef6c03",
   "metadata": {},
   "outputs": [
    {
     "name": "stdout",
     "output_type": "stream",
     "text": [
      "0    2879\n",
      "dtype: int64\n"
     ]
    }
   ],
   "source": [
    "periods_current = _create_period_columns(pd.Series([current_date]))\n",
    "print(periods_current[\"week\"].astype(int))"
   ]
  },
  {
   "cell_type": "code",
   "execution_count": 30,
   "id": "1232d375-330e-4c05-818f-f50f8c44b680",
   "metadata": {},
   "outputs": [],
   "source": [
    "def _create_period_columns(date_series, calendar_type=\"standard\"):\n",
    "    config = {\n",
    "        \"standard\": {\n",
    "            \"year\": \"Y\",\n",
    "            \"quarter\": \"Q\",\n",
    "            \"month\": \"M\",\n",
    "            \"week\": \"W\",\n",
    "        },\n",
    "        \"fiscal\": {\n",
    "            \"fiscal_year\": \"Y-FEB\",\n",
    "            \"fiscal_quarter\": \"Q-FEB\",\n",
    "        },\n",
    "    }\n",
    "\n",
    "    periods = {}\n",
    "    for key, freq in config[calendar_type].items():\n",
    "        periods[key] = date_series.dt.to_period(freq)\n",
    "\n",
    "    return periods"
   ]
  },
  {
   "cell_type": "code",
   "execution_count": 31,
   "id": "5f44734f-5db1-46ad-a044-d72b06b0e51d",
   "metadata": {},
   "outputs": [],
   "source": [
    "def _create_period_boundaries(periods):\n",
    "    boundaries = {}\n",
    "\n",
    "    for key, period in periods.items():\n",
    "        boundaries.update(\n",
    "            {\n",
    "                f\"start_of_{key}\": period.dt.start_time,\n",
    "                f\"end_of_{key}\": period.dt.end_time.dt.normalize(),\n",
    "            }\n",
    "        )\n",
    "\n",
    "    return boundaries"
   ]
  },
  {
   "cell_type": "code",
   "execution_count": 48,
   "id": "ef149462-3dd5-4d8f-896b-ae2efa523512",
   "metadata": {},
   "outputs": [],
   "source": [
    "def _calculate_offset(periods, current_period):\n",
    "    return periods.dt.ordinal - current_period.ordinal"
   ]
  },
  {
   "cell_type": "code",
   "execution_count": 51,
   "id": "4bd39bab-b0e2-4a5e-b81b-77582478c3e8",
   "metadata": {
    "scrolled": true
   },
   "outputs": [
    {
     "ename": "AttributeError",
     "evalue": "'Series' object has no attribute 'ordinal'",
     "output_type": "error",
     "traceback": [
      "\u001b[0;31m---------------------------------------------------------------------------\u001b[0m",
      "\u001b[0;31mAttributeError\u001b[0m                            Traceback (most recent call last)",
      "\u001b[0;32m/tmp/ipykernel_46454/2908846785.py\u001b[0m in \u001b[0;36m?\u001b[0;34m()\u001b[0m\n\u001b[1;32m    101\u001b[0m             \u001b[0mfreq\u001b[0m\u001b[0;34m=\u001b[0m\u001b[0;34m\"D\"\u001b[0m\u001b[0;34m,\u001b[0m\u001b[0;34m\u001b[0m\u001b[0;34m\u001b[0m\u001b[0m\n\u001b[1;32m    102\u001b[0m         )\n\u001b[1;32m    103\u001b[0m     }\n\u001b[1;32m    104\u001b[0m )\n\u001b[0;32m--> 105\u001b[0;31m \u001b[0mdf\u001b[0m \u001b[0;34m=\u001b[0m \u001b[0mdf\u001b[0m\u001b[0;34m.\u001b[0m\u001b[0mpipe\u001b[0m\u001b[0;34m(\u001b[0m\u001b[0m_add_standard_columns\u001b[0m\u001b[0;34m)\u001b[0m\u001b[0;34m\u001b[0m\u001b[0;34m\u001b[0m\u001b[0m\n\u001b[0m\u001b[1;32m    106\u001b[0m \u001b[0mdisplay\u001b[0m\u001b[0;34m(\u001b[0m\u001b[0mdf\u001b[0m\u001b[0;34m)\u001b[0m\u001b[0;34m\u001b[0m\u001b[0;34m\u001b[0m\u001b[0m\n",
      "\u001b[0;32m/opt/conda/lib/python3.11/site-packages/pandas/core/generic.py\u001b[0m in \u001b[0;36m?\u001b[0;34m(self, func, *args, **kwargs)\u001b[0m\n\u001b[1;32m   6227\u001b[0m         \u001b[0;36m2\u001b[0m  \u001b[0;36m3682.80\u001b[0m  \u001b[0;36m1473.12\u001b[0m\u001b[0;34m\u001b[0m\u001b[0;34m\u001b[0m\u001b[0m\n\u001b[1;32m   6228\u001b[0m         \"\"\"\n\u001b[1;32m   6229\u001b[0m         \u001b[0;32mif\u001b[0m \u001b[0musing_copy_on_write\u001b[0m\u001b[0;34m(\u001b[0m\u001b[0;34m)\u001b[0m\u001b[0;34m:\u001b[0m\u001b[0;34m\u001b[0m\u001b[0;34m\u001b[0m\u001b[0m\n\u001b[1;32m   6230\u001b[0m             \u001b[0;32mreturn\u001b[0m \u001b[0mcommon\u001b[0m\u001b[0;34m.\u001b[0m\u001b[0mpipe\u001b[0m\u001b[0;34m(\u001b[0m\u001b[0mself\u001b[0m\u001b[0;34m.\u001b[0m\u001b[0mcopy\u001b[0m\u001b[0;34m(\u001b[0m\u001b[0mdeep\u001b[0m\u001b[0;34m=\u001b[0m\u001b[0;32mNone\u001b[0m\u001b[0;34m)\u001b[0m\u001b[0;34m,\u001b[0m \u001b[0mfunc\u001b[0m\u001b[0;34m,\u001b[0m \u001b[0;34m*\u001b[0m\u001b[0margs\u001b[0m\u001b[0;34m,\u001b[0m \u001b[0;34m**\u001b[0m\u001b[0mkwargs\u001b[0m\u001b[0;34m)\u001b[0m\u001b[0;34m\u001b[0m\u001b[0;34m\u001b[0m\u001b[0m\n\u001b[0;32m-> 6231\u001b[0;31m         \u001b[0;32mreturn\u001b[0m \u001b[0mcommon\u001b[0m\u001b[0;34m.\u001b[0m\u001b[0mpipe\u001b[0m\u001b[0;34m(\u001b[0m\u001b[0mself\u001b[0m\u001b[0;34m,\u001b[0m \u001b[0mfunc\u001b[0m\u001b[0;34m,\u001b[0m \u001b[0;34m*\u001b[0m\u001b[0margs\u001b[0m\u001b[0;34m,\u001b[0m \u001b[0;34m**\u001b[0m\u001b[0mkwargs\u001b[0m\u001b[0;34m)\u001b[0m\u001b[0;34m\u001b[0m\u001b[0;34m\u001b[0m\u001b[0m\n\u001b[0m",
      "\u001b[0;32m/opt/conda/lib/python3.11/site-packages/pandas/core/common.py\u001b[0m in \u001b[0;36m?\u001b[0;34m(obj, func, *args, **kwargs)\u001b[0m\n\u001b[1;32m    498\u001b[0m             \u001b[0;32mraise\u001b[0m \u001b[0mValueError\u001b[0m\u001b[0;34m(\u001b[0m\u001b[0mmsg\u001b[0m\u001b[0;34m)\u001b[0m\u001b[0;34m\u001b[0m\u001b[0;34m\u001b[0m\u001b[0m\n\u001b[1;32m    499\u001b[0m         \u001b[0mkwargs\u001b[0m\u001b[0;34m[\u001b[0m\u001b[0mtarget\u001b[0m\u001b[0;34m]\u001b[0m \u001b[0;34m=\u001b[0m \u001b[0mobj\u001b[0m\u001b[0;34m\u001b[0m\u001b[0;34m\u001b[0m\u001b[0m\n\u001b[1;32m    500\u001b[0m         \u001b[0;32mreturn\u001b[0m \u001b[0mfunc\u001b[0m\u001b[0;34m(\u001b[0m\u001b[0;34m*\u001b[0m\u001b[0margs\u001b[0m\u001b[0;34m,\u001b[0m \u001b[0;34m**\u001b[0m\u001b[0mkwargs\u001b[0m\u001b[0;34m)\u001b[0m\u001b[0;34m\u001b[0m\u001b[0;34m\u001b[0m\u001b[0m\n\u001b[1;32m    501\u001b[0m     \u001b[0;32melse\u001b[0m\u001b[0;34m:\u001b[0m\u001b[0;34m\u001b[0m\u001b[0;34m\u001b[0m\u001b[0m\n\u001b[0;32m--> 502\u001b[0;31m         \u001b[0;32mreturn\u001b[0m \u001b[0mfunc\u001b[0m\u001b[0;34m(\u001b[0m\u001b[0mobj\u001b[0m\u001b[0;34m,\u001b[0m \u001b[0;34m*\u001b[0m\u001b[0margs\u001b[0m\u001b[0;34m,\u001b[0m \u001b[0;34m**\u001b[0m\u001b[0mkwargs\u001b[0m\u001b[0;34m)\u001b[0m\u001b[0;34m\u001b[0m\u001b[0;34m\u001b[0m\u001b[0m\n\u001b[0m",
      "\u001b[0;32m/tmp/ipykernel_46454/2908846785.py\u001b[0m in \u001b[0;36m?\u001b[0;34m(df)\u001b[0m\n\u001b[1;32m      3\u001b[0m     \u001b[0mperiods\u001b[0m \u001b[0;34m=\u001b[0m \u001b[0m_create_period_columns\u001b[0m\u001b[0;34m(\u001b[0m\u001b[0mdf\u001b[0m\u001b[0;34m[\u001b[0m\u001b[0;34m\"date\"\u001b[0m\u001b[0;34m]\u001b[0m\u001b[0;34m,\u001b[0m \u001b[0;34m\"standard\"\u001b[0m\u001b[0;34m)\u001b[0m\u001b[0;34m\u001b[0m\u001b[0;34m\u001b[0m\u001b[0m\n\u001b[1;32m      4\u001b[0m \u001b[0;34m\u001b[0m\u001b[0m\n\u001b[1;32m      5\u001b[0m     return df.assign(\n\u001b[1;32m      6\u001b[0m         \u001b[0;34m**\u001b[0m\u001b[0m_create_period_boundaries\u001b[0m\u001b[0;34m(\u001b[0m\u001b[0mperiods\u001b[0m\u001b[0;34m)\u001b[0m\u001b[0;34m,\u001b[0m\u001b[0;34m\u001b[0m\u001b[0;34m\u001b[0m\u001b[0m\n\u001b[0;32m----> 7\u001b[0;31m         \u001b[0myear_offset\u001b[0m\u001b[0;34m=\u001b[0m\u001b[0mperiods\u001b[0m\u001b[0;34m[\u001b[0m\u001b[0;34m\"year\"\u001b[0m\u001b[0;34m]\u001b[0m\u001b[0;34m.\u001b[0m\u001b[0mordinal\u001b[0m\u001b[0;34m\u001b[0m\u001b[0;34m\u001b[0m\u001b[0m\n\u001b[0m\u001b[1;32m      8\u001b[0m     )\n",
      "\u001b[0;32m/opt/conda/lib/python3.11/site-packages/pandas/core/generic.py\u001b[0m in \u001b[0;36m?\u001b[0;34m(self, name)\u001b[0m\n\u001b[1;32m   6295\u001b[0m             \u001b[0;32mand\u001b[0m \u001b[0mname\u001b[0m \u001b[0;32mnot\u001b[0m \u001b[0;32min\u001b[0m \u001b[0mself\u001b[0m\u001b[0;34m.\u001b[0m\u001b[0m_accessors\u001b[0m\u001b[0;34m\u001b[0m\u001b[0;34m\u001b[0m\u001b[0m\n\u001b[1;32m   6296\u001b[0m             \u001b[0;32mand\u001b[0m \u001b[0mself\u001b[0m\u001b[0;34m.\u001b[0m\u001b[0m_info_axis\u001b[0m\u001b[0;34m.\u001b[0m\u001b[0m_can_hold_identifiers_and_holds_name\u001b[0m\u001b[0;34m(\u001b[0m\u001b[0mname\u001b[0m\u001b[0;34m)\u001b[0m\u001b[0;34m\u001b[0m\u001b[0;34m\u001b[0m\u001b[0m\n\u001b[1;32m   6297\u001b[0m         ):\n\u001b[1;32m   6298\u001b[0m             \u001b[0;32mreturn\u001b[0m \u001b[0mself\u001b[0m\u001b[0;34m[\u001b[0m\u001b[0mname\u001b[0m\u001b[0;34m]\u001b[0m\u001b[0;34m\u001b[0m\u001b[0;34m\u001b[0m\u001b[0m\n\u001b[0;32m-> 6299\u001b[0;31m         \u001b[0;32mreturn\u001b[0m \u001b[0mobject\u001b[0m\u001b[0;34m.\u001b[0m\u001b[0m__getattribute__\u001b[0m\u001b[0;34m(\u001b[0m\u001b[0mself\u001b[0m\u001b[0;34m,\u001b[0m \u001b[0mname\u001b[0m\u001b[0;34m)\u001b[0m\u001b[0;34m\u001b[0m\u001b[0;34m\u001b[0m\u001b[0m\n\u001b[0m",
      "\u001b[0;31mAttributeError\u001b[0m: 'Series' object has no attribute 'ordinal'"
     ]
    }
   ],
   "source": [
    "def _add_standard_columns(df):\n",
    "    dt = df[\"date\"].dt\n",
    "    periods = _create_period_columns(df[\"date\"], \"standard\")\n",
    "\n",
    "    return df.assign(\n",
    "        **_create_period_boundaries(periods),\n",
    "        year_offset=periods[\"year\"].ordinal,\n",
    "    )\n",
    "\n",
    "\n",
    "def _add_fiscal_columns(df):\n",
    "    dt = df[\"date\"].dt\n",
    "    periods = _create_period_columns(dt, \"fiscal\")\n",
    "\n",
    "    return df.assign(\n",
    "        **_create_period_boundaries(periods),\n",
    "    )\n",
    "\n",
    "\n",
    "# def _add_standard_columns(df):\n",
    "#     dt = df[\"date\"].dt\n",
    "#     iso = dt.isocalendar()\n",
    "#     period_w = dt.to_period(\"W\")\n",
    "#     period_m = dt.to_period(\"M\")\n",
    "#     period_q = dt.to_period(\"Q\")\n",
    "#     period_y = dt.to_period(\"Y\")\n",
    "\n",
    "#     current_date = pd.Timestamp.today()\n",
    "#     current_period_w = current_date.to_period(\"W\")\n",
    "#     current_period_m = current_date.to_period(\"M\")\n",
    "#     current_period_q = current_date.to_period(\"Q\")\n",
    "#     current_period_y = current_date.to_period(\"Y\")\n",
    "\n",
    "#     return df.assign(\n",
    "#         year=dt.year,\n",
    "#         month=dt.month,\n",
    "#         month_abbr=dt.strftime(\"%b\"),\n",
    "#         year_month=dt.strftime(\"%b %Y\"),\n",
    "#         year_month_number=dt.year * 12 + dt.month - 1,\n",
    "#         quarter=dt.quarter,\n",
    "#         year_quarter=dt.to_period(\"Q\"),\n",
    "#         iso_week=iso.week,\n",
    "#         day_of_week=iso.day,\n",
    "#         day_name=dt.strftime(\"%a\"),\n",
    "#         start_of_year=period_y.dt.start_time,\n",
    "#         end_of_year=period_y.dt.end_time.dt.floor(\"D\"),\n",
    "#         start_of_quarter=period_q.dt.start_time,\n",
    "#         end_of_quarter=period_q.dt.end_time.dt.floor(\"D\"),\n",
    "#         start_of_month=period_m.dt.start_time,\n",
    "#         end_of_month=period_m.dt.end_time.dt.floor(\"D\"),\n",
    "#         start_of_week=period_w.dt.start_time,\n",
    "#         end_of_week=period_w.dt.end_time.dt.floor(\"D\"),\n",
    "#         year_offset=dt.year - current_period_y.year,\n",
    "#         quarter_offset=(\n",
    "#             ((dt.year - current_date.year) * 4)\n",
    "#             + (dt.quarter - current_date.quarter)\n",
    "#         ),\n",
    "#         month_offset=(\n",
    "#             ((dt.year - current_date.year) * 12)\n",
    "#             + (dt.month - current_date.month)\n",
    "#         ),\n",
    "#         week_offset=(\n",
    "#             period_w.dt.start_time - current_period_w.start_time\n",
    "#         ).dt.days\n",
    "#         // 7,\n",
    "#     )\n",
    "\n",
    "\n",
    "# def _add_fiscal_columns(df):\n",
    "#     dt = df[\"date\"].dt\n",
    "\n",
    "#     period_y = dt.to_period(\"Y-FEB\")\n",
    "#     period_q = dt.to_period(\"Q-FEB\")\n",
    "#     fiscal_start_month = period_y.dt.start_time.dt.month\n",
    "\n",
    "#     current_date = pd.Timestamp.today()\n",
    "#     current_period_y = current_date.to_period(\"Y-FEB\")\n",
    "#     current_period_q = current_date.to_period(\"Q-FEB\")\n",
    "\n",
    "#     return df.assign(\n",
    "#         fiscal_year=period_y.dt.year,\n",
    "#         fiscal_month=((dt.month - fiscal_start_month) % 12) + 1,\n",
    "#         fiscal_quarter=period_q.dt.quarter,\n",
    "#         fiscal_year_quarter=period_q,\n",
    "#         start_of_fiscal_year=period_y.dt.start_time,\n",
    "#         end_of_fiscal_year=period_y.dt.end_time.dt.normalize(),\n",
    "#         start_of_fiscal_quarter=period_q.dt.start_time,\n",
    "#         end_of_fiscal_quarter=period_q.dt.end_time.dt.floor(\"D\"),\n",
    "#         fiscal_year_offset=period_y.dt.year - current_period_y.year,\n",
    "#         fiscal_quarter_offset=(\n",
    "#             ((period_y.dt.year - current_period_y.year) * 4)\n",
    "#             + (period_q.dt.quarter - current_period_q.quarter)\n",
    "#         ),\n",
    "#     )\n",
    "\n",
    "df = pd.DataFrame(\n",
    "    {\n",
    "        \"date\": pd.date_range(\n",
    "            start=\"2024-12-01\",\n",
    "            end=\"2025-03-31\",\n",
    "            freq=\"D\",\n",
    "        )\n",
    "    }\n",
    ")\n",
    "df = df.pipe(_add_standard_columns)\n",
    "display(df)"
   ]
  },
  {
   "cell_type": "code",
   "execution_count": null,
   "id": "35aef681-670b-452d-a3ea-f6dfcc61ae8f",
   "metadata": {},
   "outputs": [],
   "source": []
  }
 ],
 "metadata": {
  "kernelspec": {
   "display_name": "Python 3 (ipykernel)",
   "language": "python",
   "name": "python3"
  },
  "language_info": {
   "codemirror_mode": {
    "name": "ipython",
    "version": 3
   },
   "file_extension": ".py",
   "mimetype": "text/x-python",
   "name": "python",
   "nbconvert_exporter": "python",
   "pygments_lexer": "ipython3",
   "version": "3.11.6"
  }
 },
 "nbformat": 4,
 "nbformat_minor": 5
}
