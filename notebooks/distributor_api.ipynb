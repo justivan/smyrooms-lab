{
 "cells": [
  {
   "cell_type": "code",
   "execution_count": 1,
   "id": "b0c7eb16-6bf9-44fa-9edb-bcf824d5ea66",
   "metadata": {},
   "outputs": [],
   "source": [
    "import json\n",
    "from datetime import datetime\n",
    "from pathlib import Path\n",
    "\n",
    "import pandas as pd\n",
    "import requests\n",
    "from sqlalchemy import select\n",
    "from sqlalchemy.orm import aliased\n",
    "\n",
    "from database import Database\n",
    "from utils import DistributorApi"
   ]
  },
  {
   "cell_type": "code",
   "execution_count": 2,
   "id": "4bbd3e38-b510-4e3e-8480-1360d0957221",
   "metadata": {},
   "outputs": [],
   "source": [
    "base_dir = Path(\".\").resolve()\n",
    "data_dir = base_dir / \"data\""
   ]
  },
  {
   "cell_type": "code",
   "execution_count": 3,
   "id": "3dbc7a44-fa09-48e4-828a-65d36a89db30",
   "metadata": {},
   "outputs": [],
   "source": [
    "api = DistributorApi()"
   ]
  },
  {
   "cell_type": "code",
   "execution_count": 4,
   "id": "8d6d15f9-6c8a-4c6d-87d2-055d419974f7",
   "metadata": {},
   "outputs": [],
   "source": [
    "rules = api.get_all_rules()\n",
    "df_rules = pd.json_normalize(rules, sep=\"_\")\n",
    "df_rules = df_rules[\n",
    "    [\n",
    "        \"id\",\n",
    "        \"name\",\n",
    "        \"description\",\n",
    "        \"tag\",\n",
    "        \"edit_state\",\n",
    "        \"obsolete\",\n",
    "        \"updated_by\",\n",
    "        \"updated_on\",\n",
    "        \"credential_level\",\n",
    "        \"credential_list\",\n",
    "        \"provider_level\",\n",
    "        \"provider_list\",\n",
    "        \"hotel_level\",\n",
    "        \"hotel_list\",\n",
    "        \"destination_level\",\n",
    "        \"destination_list\",\n",
    "        \"rate\",\n",
    "        \"refundable\",\n",
    "        \"market_level\",\n",
    "        \"market_list\",\n",
    "        \"meal_level\",\n",
    "        \"meal_list\",\n",
    "        \"check_in_level\",\n",
    "        \"check_in_from\",\n",
    "        \"check_in_to\",\n",
    "        \"booking_date_level\",\n",
    "        \"booking_date_from\",\n",
    "        \"booking_date_to\",\n",
    "        \"range_level\",\n",
    "        \"range_from\",\n",
    "        \"range_to\",\n",
    "        \"max_release\",\n",
    "        \"days_of_week_level\",\n",
    "        \"days_of_week_list\",\n",
    "        \"age\",\n",
    "        \"room_level\",\n",
    "        \"room_list\",\n",
    "        \"num_of_nights_level\",\n",
    "        \"num_of_nights_list\",\n",
    "        \"hours_level\",\n",
    "        \"hours_list\",\n",
    "        \"dynamic_commission\",\n",
    "    ]\n",
    "]"
   ]
  },
  {
   "cell_type": "code",
   "execution_count": 5,
   "id": "83ac5e31-02ab-43e1-9e4b-01c6aef0684f",
   "metadata": {},
   "outputs": [],
   "source": [
    "df_rules.to_csv(\"df_rules.csv\", index=False)"
   ]
  },
  {
   "cell_type": "code",
   "execution_count": 5,
   "id": "f9df529a-1564-4847-9635-ab2681e52bc2",
   "metadata": {},
   "outputs": [],
   "source": [
    "filter = (\n",
    "    (df_rules[\"tag\"].isin([-1, 1, 3]))  # empty, product, customer request\n",
    "    & (df_rules[\"credential_level\"] == 1)  # list of credentials only\n",
    "    & (df_rules[\"provider_level\"] == 1)  # list of providers only\n",
    "    & (df_rules[\"hotel_level\"] == 1)  # list of hotels only\n",
    "    & (df_rules[\"destination_level\"] == 0)  # all\n",
    "    & (df_rules[\"rate\"] == 0)  # all\n",
    "    & (df_rules[\"refundable\"] == 0)  # all\n",
    "    & (df_rules[\"market_level\"] == 0)  # all\n",
    "    & (df_rules[\"meal_level\"] == 0)  # all\n",
    "    & (df_rules[\"check_in_level\"] == 0)  # all\n",
    "    & (df_rules[\"booking_date_level\"] == 0)  # all\n",
    "    & (df_rules[\"range_level\"] == 0)  # all\n",
    "    & (df_rules[\"max_release\"] == 0)  # all\n",
    "    & (df_rules[\"days_of_week_level\"] == 0)  # all\n",
    "    & (df_rules[\"age\"] == 0)  # all\n",
    "    & (df_rules[\"room_level\"] == 0)  # all\n",
    "    & (df_rules[\"num_of_nights_level\"] == 0)  # all\n",
    "    & (df_rules[\"hours_level\"] == 0)  # all\n",
    ")"
   ]
  },
  {
   "cell_type": "code",
   "execution_count": 6,
   "id": "95db3d81-2668-4b1f-855f-42dabbea7d03",
   "metadata": {},
   "outputs": [
    {
     "data": {
      "text/plain": [
       "(601, 42)"
      ]
     },
     "execution_count": 6,
     "metadata": {},
     "output_type": "execute_result"
    }
   ],
   "source": [
    "df_rules_filtered = df_rules[filter].copy()\n",
    "df_rules_filtered.shape"
   ]
  },
  {
   "cell_type": "code",
   "execution_count": 7,
   "id": "73e53613-78f0-48a9-9388-443ac6523bde",
   "metadata": {},
   "outputs": [],
   "source": [
    "df_rules_filtered[\"credential_count\"] = df_rules_filtered[\"credential_list\"].apply(len)\n",
    "df_rules_filtered[\"provider_count\"] = df_rules_filtered[\"provider_list\"].apply(len)\n",
    "df_rules_filtered[\"hotel_count\"] = df_rules_filtered[\"hotel_list\"].apply(len)"
   ]
  },
  {
   "cell_type": "code",
   "execution_count": 10,
   "id": "39052c60-28d4-4d58-b92c-60c93f061c9e",
   "metadata": {},
   "outputs": [],
   "source": [
    "df_rules_filtered[\"creds_tuple\"] = df_rules_filtered[\"credential_list\"].apply(tuple)\n",
    "df_rules_filtered[\"duplicates\"] = df_rules_filtered.groupby(\"creds_tuple\")[\n",
    "    \"creds_tuple\"\n",
    "].transform(\"count\")"
   ]
  },
  {
   "cell_type": "code",
   "execution_count": 11,
   "id": "35edcd52-f989-4a19-8176-42252afb68f5",
   "metadata": {},
   "outputs": [],
   "source": [
    "df_rules_filtered.to_csv(\"df_rules_filtered.csv\", index=False)"
   ]
  },
  {
   "cell_type": "code",
   "execution_count": null,
   "id": "c248f3b9-f71a-452a-b9ea-ba94d48ce99e",
   "metadata": {},
   "outputs": [],
   "source": []
  }
 ],
 "metadata": {
  "kernelspec": {
   "display_name": "Python 3 (ipykernel)",
   "language": "python",
   "name": "python3"
  },
  "language_info": {
   "codemirror_mode": {
    "name": "ipython",
    "version": 3
   },
   "file_extension": ".py",
   "mimetype": "text/x-python",
   "name": "python",
   "nbconvert_exporter": "python",
   "pygments_lexer": "ipython3",
   "version": "3.11.6"
  }
 },
 "nbformat": 4,
 "nbformat_minor": 5
}
