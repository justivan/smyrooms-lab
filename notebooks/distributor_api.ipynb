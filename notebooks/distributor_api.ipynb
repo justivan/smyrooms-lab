{
 "cells": [
  {
   "cell_type": "code",
   "execution_count": 1,
   "id": "b0c7eb16-6bf9-44fa-9edb-bcf824d5ea66",
   "metadata": {},
   "outputs": [],
   "source": [
    "import json\n",
    "from pathlib import Path\n",
    "\n",
    "import pandas as pd\n",
    "import requests\n",
    "\n",
    "from config import Config"
   ]
  },
  {
   "cell_type": "code",
   "execution_count": 2,
   "id": "4bbd3e38-b510-4e3e-8480-1360d0957221",
   "metadata": {},
   "outputs": [],
   "source": [
    "base_dir = Path(\".\").resolve()\n",
    "data_dir = base_dir / \"data\""
   ]
  },
  {
   "cell_type": "code",
   "execution_count": 3,
   "id": "a2c51963-fbda-4614-b0e9-a69305935252",
   "metadata": {},
   "outputs": [],
   "source": [
    "headers = {\n",
    "    \"Accept\": \"text/plain\",\n",
    "    \"Authorization\": f\"ApiKey {Config.APIKEY}\",\n",
    "    \"Content-Type\": \"application/json\",\n",
    "}\n",
    "\n",
    "metadata = {\n",
    "    \"editState\": \"edit_state\",\n",
    "    \"isObsolete\": \"obsolete\",\n",
    "    \"name\": \"name\",\n",
    "    \"description\": \"description\",\n",
    "    \"lastUser\": \"updated_by\",\n",
    "    \"lastDate\": \"updated_on\",\n",
    "    \"tag\": \"tag\",\n",
    "    \"id\": \"id\",\n",
    "    \"rrg\": \"range\",\n",
    "    \"cli\": \"credential\",\n",
    "    \"ps\": \"paying_society\",\n",
    "    \"cp\": \"refundable\",\n",
    "    \"rat\": \"rate\",\n",
    "    \"prv\": \"provider\",\n",
    "    \"hot\": \"hotel\",\n",
    "    \"dest\": \"destination\",\n",
    "    \"mrk\": \"market\",\n",
    "    \"mel\": \"meal\",\n",
    "    \"cid\": \"check_in\",\n",
    "    \"bod\": \"booking_date\",\n",
    "    \"rel\": \"max_release\",\n",
    "    \"isDynamicCommission\": \"dynamic_commission\",\n",
    "    \"dow\": \"days_of_week\",\n",
    "    \"age\": \"age\",\n",
    "    \"room\": \"room\",\n",
    "    \"non\": \"num_of_nights\",\n",
    "    \"hou\": \"hours\",\n",
    "    \"level_mapping\": {\"t\": \"level\", \"l\": \"list\", \"f\": \"from\", \"u\": \"to\"},\n",
    "}"
   ]
  },
  {
   "cell_type": "code",
   "execution_count": 4,
   "id": "8d6d15f9-6c8a-4c6d-87d2-055d419974f7",
   "metadata": {},
   "outputs": [],
   "source": [
    "url = \"http://distributor.rules.api.pro.logitravel.internal/api/organizations/lgt/agencies/products/hot/level_closes/\"\n",
    "\n",
    "response = requests.get(url, headers=headers)\n",
    "\n",
    "if response.status_code == 200:\n",
    "    data = response.json()\n",
    "    data = json.loads(\n",
    "        json.dumps(data), object_hook=lambda obj: {**obj.pop(\"lvl\", {}), **obj}\n",
    "    )\n",
    "    rules = data.get(\"rules\", [])\n",
    "\n",
    "    for rule in rules:\n",
    "        rrg = rule.get(\"rrg\")\n",
    "        if rrg is None:\n",
    "            rule[\"rrg\"] = {\"f\": 0, \"t\": 0, \"u\": 0}\n",
    "\n",
    "        for key in list(rule.keys()):\n",
    "            if key in metadata:\n",
    "                rule[metadata[key]] = rule.pop(key)\n",
    "\n",
    "        level_mapping = metadata[\"level_mapping\"]\n",
    "        for key, value in rule.items():\n",
    "            if isinstance(value, dict):\n",
    "                for k in list(value.keys()):\n",
    "                    if k in level_mapping:\n",
    "                        value[level_mapping[k]] = value.pop(k)"
   ]
  },
  {
   "cell_type": "code",
   "execution_count": 8,
   "id": "d0705628-d6bb-47f2-ba73-0790b8c66288",
   "metadata": {},
   "outputs": [],
   "source": [
    "df_rules = pd.json_normalize(rules, sep=\"_\")\n",
    "df_rules = df_rules[\n",
    "    [\n",
    "        \"id\",\n",
    "        \"name\",\n",
    "        \"description\",\n",
    "        \"tag\",\n",
    "        \"credential_level\",\n",
    "        \"credential_list\",\n",
    "        \"provider_level\",\n",
    "        \"provider_list\",\n",
    "        \"hotel_level\",\n",
    "        \"hotel_list\",\n",
    "        \"destination_level\",\n",
    "        \"destination_list\",\n",
    "        \"rate\",\n",
    "        \"refundable\",\n",
    "        \"market_level\",\n",
    "        \"market_list\",\n",
    "        \"meal_level\",\n",
    "        \"meal_list\",\n",
    "        \"check_in_level\",\n",
    "        \"check_in_from\",\n",
    "        \"check_in_to\",\n",
    "        \"booking_date_level\",\n",
    "        \"booking_date_from\",\n",
    "        \"booking_date_to\",\n",
    "        \"range_level\",\n",
    "        \"range_from\",\n",
    "        \"range_to\",\n",
    "        \"max_release\",\n",
    "        \"days_of_week_level\",\n",
    "        \"days_of_week_list\",\n",
    "        \"age\",\n",
    "        \"room_level\",\n",
    "        \"room_list\",\n",
    "        \"num_of_nights_level\",\n",
    "        \"num_of_nights_list\",\n",
    "        \"hours_level\",\n",
    "        \"hours_list\",\n",
    "        \"dynamic_commission\",\n",
    "        \"obsolete\"\n",
    "    ]\n",
    "]"
   ]
  },
  {
   "cell_type": "code",
   "execution_count": null,
   "id": "ef42504c-96f6-4547-b034-04ec69ac748a",
   "metadata": {},
   "outputs": [],
   "source": [
    "with pd.option_context(\"display.max_columns\", None):\n",
    "    display(df_rules.head())"
   ]
  },
  {
   "cell_type": "code",
   "execution_count": null,
   "id": "f9df529a-1564-4847-9635-ab2681e52bc2",
   "metadata": {},
   "outputs": [],
   "source": [
    "# Set filter to level 1 rules\n",
    "filter_lvl1 = (\n",
    "    (df_rules[\"tag\"] == 1)\n",
    "    & (df_rules[\"credential_level\"] == 1)\n",
    "    & (df_rules[\"provider_level\"] == 1)\n",
    "    & (df_rules[\"hotel_level\"] == 1)\n",
    "    & (df_rules[\"destination_level\"] == 0)\n",
    "    & (df_rules[\"rate\"] == 0)\n",
    "    & (df_rules[\"refundable\"] == 0)\n",
    "    & (df_rules[\"market_level\"] == 0)\n",
    "    & (df_rules[\"meal_level\"] == 0)\n",
    "    & (df_rules[\"check_in_level\"] == 0)\n",
    "    & (df_rules[\"booking_date_level\"] == 0)\n",
    "    & (df_rules[\"range_level\"] == 0)\n",
    "    & (df_rules[\"max_release\"] == 0)\n",
    "    & (df_rules[\"days_of_week_level\"] == 0)\n",
    "    & (df_rules[\"age\"] == 0)\n",
    "    & (df_rules[\"room_level\"] == 0)\n",
    "    & (df_rules[\"num_of_nights_level\"] == 0)\n",
    "    & (df_rules[\"hours_level\"] == 0)\n",
    ")"
   ]
  },
  {
   "cell_type": "code",
   "execution_count": null,
   "id": "95db3d81-2668-4b1f-855f-42dabbea7d03",
   "metadata": {},
   "outputs": [],
   "source": [
    "df_rules_lvl1 = df_rules[filter_lvl1].copy()\n",
    "df_rules_lvl1.shape"
   ]
  },
  {
   "cell_type": "code",
   "execution_count": null,
   "id": "73e53613-78f0-48a9-9388-443ac6523bde",
   "metadata": {},
   "outputs": [],
   "source": [
    "df_rules_lvl1[\"credential_count\"] = df_rules_lvl1[\"credential_list\"].apply(len)\n",
    "df_rules_lvl1.insert(6, \"credential_count\", df_rules_lvl1.pop(\"credential_count\"))"
   ]
  },
  {
   "cell_type": "code",
   "execution_count": null,
   "id": "3902674a-64ae-422d-b656-777fde41b808",
   "metadata": {},
   "outputs": [],
   "source": [
    "df_rules_lvl1.to_csv(\"df_rules_lvl1.csv\", index=False)"
   ]
  },
  {
   "cell_type": "code",
   "execution_count": null,
   "id": "fa6403a1-f967-40a6-bc44-0d93bea7285c",
   "metadata": {},
   "outputs": [],
   "source": [
    "df_529117 = df_rules_lvl1[df_rules_lvl1[\"id\"] == \"529117\"]"
   ]
  },
  {
   "cell_type": "code",
   "execution_count": null,
   "id": "6516b45a-dc0f-4e8b-bc08-4fae848b8e47",
   "metadata": {},
   "outputs": [],
   "source": [
    "df_529117 = df_529117.explode(\"credential_list\")"
   ]
  },
  {
   "cell_type": "code",
   "execution_count": null,
   "id": "77b85357-fc0f-4be7-9421-e10e7268aeb4",
   "metadata": {},
   "outputs": [],
   "source": [
    "df_529117.shape"
   ]
  },
  {
   "cell_type": "code",
   "execution_count": 10,
   "id": "f19a0099-2b03-408a-b442-de38b57230a1",
   "metadata": {},
   "outputs": [
    {
     "data": {
      "text/plain": [
       "(65, 39)"
      ]
     },
     "execution_count": 10,
     "metadata": {},
     "output_type": "execute_result"
    }
   ],
   "source": [
    "df_rules_obsolete = df_rules[df_rules[\"obsolete\"]].copy()\n",
    "df_rules_obsolete.shape"
   ]
  },
  {
   "cell_type": "code",
   "execution_count": 11,
   "id": "8d932483-ab9a-4e07-a8be-bcff1e30f7db",
   "metadata": {},
   "outputs": [],
   "source": [
    "df_rules_obsolete.to_csv(\"df_rules_obsolete.csv\", index=False)"
   ]
  },
  {
   "cell_type": "code",
   "execution_count": 12,
   "id": "655350b2-379f-4d15-847d-8f33a0988268",
   "metadata": {},
   "outputs": [],
   "source": [
    "df_rules.to_csv(\"df_rules.csv\", index=False)"
   ]
  },
  {
   "cell_type": "code",
   "execution_count": null,
   "id": "a8285fdb-c378-415d-8d5e-6e69f69edaee",
   "metadata": {},
   "outputs": [],
   "source": []
  }
 ],
 "metadata": {
  "kernelspec": {
   "display_name": "Python 3 (ipykernel)",
   "language": "python",
   "name": "python3"
  },
  "language_info": {
   "codemirror_mode": {
    "name": "ipython",
    "version": 3
   },
   "file_extension": ".py",
   "mimetype": "text/x-python",
   "name": "python",
   "nbconvert_exporter": "python",
   "pygments_lexer": "ipython3",
   "version": "3.11.6"
  }
 },
 "nbformat": 4,
 "nbformat_minor": 5
}
