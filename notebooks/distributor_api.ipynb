{
 "cells": [
  {
   "cell_type": "code",
   "execution_count": null,
   "id": "b0c7eb16-6bf9-44fa-9edb-bcf824d5ea66",
   "metadata": {},
   "outputs": [],
   "source": [
    "import json\n",
    "from pathlib import Path\n",
    "\n",
    "import pandas as pd\n",
    "import requests\n",
    "\n",
    "from config import Config"
   ]
  },
  {
   "cell_type": "code",
   "execution_count": null,
   "id": "4bbd3e38-b510-4e3e-8480-1360d0957221",
   "metadata": {},
   "outputs": [],
   "source": [
    "base_dir = Path(\".\").resolve()\n",
    "data_dir = base_dir / \"data\""
   ]
  }
 ],
 "metadata": {
  "kernelspec": {
   "display_name": "Python 3 (ipykernel)",
   "language": "python",
   "name": "python3"
  },
  "language_info": {
   "codemirror_mode": {
    "name": "ipython",
    "version": 3
   },
   "file_extension": ".py",
   "mimetype": "text/x-python",
   "name": "python",
   "nbconvert_exporter": "python",
   "pygments_lexer": "ipython3",
   "version": "3.11.6"
  }
 },
 "nbformat": 4,
 "nbformat_minor": 5
}
