{
 "cells": [
  {
   "cell_type": "code",
   "execution_count": 3,
   "id": "7ea60a1e-5bd1-4b92-b1be-cb804daa425c",
   "metadata": {},
   "outputs": [
    {
     "name": "stdout",
     "output_type": "stream",
     "text": [
      "levels_rules__ps__t__gt\n",
      "levels_rules__mel__t__gt\n",
      "levels_rules__cid__t__gt\n",
      "levels_rules__bod__t__gt\n",
      "levels_rules__dow__t__gt\n",
      "levels_rules__room__t__gt\n",
      "levels_rules__non__t__gt\n",
      "levels_rules__hou__t__gt\n",
      "levels_rules__mrk__t__gt\n",
      "levels_rules__cp__gt\n",
      "levels_rules__rat__gt\n",
      "levels_rules__rel__gt\n",
      "levels_rules__age__gt\n"
     ]
    }
   ],
   "source": [
    "# Parallel processing with ThreadPoolExecutor\n",
    "def process_row(row, processor):\n",
    "    return pd.Series(processor.get_metrics(row))\n",
    "\n",
    "\n",
    "def process_df_stopsales(df_stopsales, processor):\n",
    "    with ThreadPoolExecutor() as executor:\n",
    "        results = list(\n",
    "            executor.map(\n",
    "                lambda row: process_row(row, processor), df_stopsales.to_dict(\"records\")\n",
    "            )\n",
    "        )\n",
    "    return pd.DataFrame(results)\n",
    "\n",
    "\n",
    "# Usage\n",
    "metrics_processor = MetricsProcessor()\n",
    "df_stopsales[\n",
    "    [\n",
    "        \"revenue_last_12_months\",\n",
    "        \"average_per_week\",\n",
    "        \"revenue_post_rule\",\n",
    "        \"monthly_revenue_last_12_months\",\n",
    "        \"weekday_revenue_last_12_months\",\n",
    "    ]\n",
    "] = process_df_stopsales(df_stopsales, metrics_processor)\n",
    "\n",
    "end_time = time.time()\n",
    "execution_time = end_time - start_time\n",
    "\n",
    "print(f\"Execution time: {execution_time:.4f} seconds\")\n",
    "display(df_stopsales.head())"
   ]
  }
 ],
 "metadata": {
  "kernelspec": {
   "display_name": "Python 3 (ipykernel)",
   "language": "python",
   "name": "python3"
  },
  "language_info": {
   "codemirror_mode": {
    "name": "ipython",
    "version": 3
   },
   "file_extension": ".py",
   "mimetype": "text/x-python",
   "name": "python",
   "nbconvert_exporter": "python",
   "pygments_lexer": "ipython3",
   "version": "3.11.6"
  }
 },
 "nbformat": 4,
 "nbformat_minor": 5
}
