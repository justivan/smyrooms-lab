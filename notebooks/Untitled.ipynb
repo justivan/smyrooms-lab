{
 "cells": [
  {
   "cell_type": "code",
   "execution_count": 3,
   "id": "7ea60a1e-5bd1-4b92-b1be-cb804daa425c",
   "metadata": {},
   "outputs": [
    {
     "name": "stdout",
     "output_type": "stream",
     "text": [
      "levels_rules__ps__t__gt\n",
      "levels_rules__mel__t__gt\n",
      "levels_rules__cid__t__gt\n",
      "levels_rules__bod__t__gt\n",
      "levels_rules__dow__t__gt\n",
      "levels_rules__room__t__gt\n",
      "levels_rules__non__t__gt\n",
      "levels_rules__hou__t__gt\n",
      "levels_rules__mrk__t__gt\n",
      "levels_rules__cp__gt\n",
      "levels_rules__rat__gt\n",
      "levels_rules__rel__gt\n",
      "levels_rules__age__gt\n"
     ]
    }
   ],
   "source": [
    "qs = (\n",
    "    BookingsFinancialData.objects.filter(**filters)\n",
    "    .exclude(\n",
    "        Q(credential__client__region__name__icontains=\"veci\")\n",
    "        | Q(credential__enabled=False)\n",
    "    )\n",
    "    .values()\n",
    ")"
   ]
  }
 ],
 "metadata": {
  "kernelspec": {
   "display_name": "Python 3 (ipykernel)",
   "language": "python",
   "name": "python3"
  },
  "language_info": {
   "codemirror_mode": {
    "name": "ipython",
    "version": 3
   },
   "file_extension": ".py",
   "mimetype": "text/x-python",
   "name": "python",
   "nbconvert_exporter": "python",
   "pygments_lexer": "ipython3",
   "version": "3.11.6"
  }
 },
 "nbformat": 4,
 "nbformat_minor": 5
}
