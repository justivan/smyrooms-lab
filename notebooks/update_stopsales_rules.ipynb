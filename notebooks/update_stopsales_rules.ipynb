{
 "cells": [
  {
   "cell_type": "code",
   "execution_count": 1,
   "id": "a6972255-2e38-4494-8b4e-8847cf282cc4",
   "metadata": {},
   "outputs": [],
   "source": [
    "import json\n",
    "from datetime import datetime\n",
    "from pathlib import Path\n",
    "\n",
    "import pandas as pd\n",
    "import requests\n",
    "from sqlalchemy import select\n",
    "from sqlalchemy.orm import aliased\n",
    "\n",
    "from database import Database\n",
    "from utils import DistributorApi"
   ]
  },
  {
   "cell_type": "code",
   "execution_count": 2,
   "id": "8231ea28-7403-4621-94df-c19e9b2d4b5f",
   "metadata": {},
   "outputs": [],
   "source": [
    "base_dir = Path(\".\").resolve()\n",
    "data_dir = base_dir / \"data\""
   ]
  },
  {
   "cell_type": "code",
   "execution_count": 3,
   "id": "4378254e-92c1-4525-82e6-79476c1fc090",
   "metadata": {},
   "outputs": [],
   "source": [
    "api = DistributorApi()\n",
    "db = Database()"
   ]
  },
  {
   "cell_type": "code",
   "execution_count": 6,
   "id": "6a25417d-b93f-4436-8eed-fc5ef664fca5",
   "metadata": {},
   "outputs": [],
   "source": [
    "rules = api.get_stopsale_rules()3"
   ]
  },
  {
   "cell_type": "code",
   "execution_count": 9,
   "id": "b5d202da-0686-461f-a077-53785475899e",
   "metadata": {},
   "outputs": [],
   "source": [
    "rules = response.json().get(\"rules\", [])"
   ]
  },
  {
   "cell_type": "code",
   "execution_count": 13,
   "id": "9aa4a5db-dcb4-44da-9281-4a406d5f1239",
   "metadata": {},
   "outputs": [
    {
     "name": "stdout",
     "output_type": "stream",
     "text": [
      "Http Error: 404 Client Error: Not Found for url: http://www.google.com/blahblah\n"
     ]
    }
   ],
   "source": [
    "url = \"http://www.google.com/blahblah\"\n",
    "\n",
    "try:\n",
    "    r = requests.get(url, timeout=3)\n",
    "    r.raise_for_status()\n",
    "except requests.exceptions.HTTPError as errh:\n",
    "    print(\"Http Error:\", errh)\n",
    "except requests.exceptions.ConnectionError as errc:\n",
    "    print(\"Error Connecting:\", errc)\n",
    "except requests.exceptions.Timeout as errt:\n",
    "    print(\"Timeout Error:\", errt)\n",
    "except requests.exceptions.RequestException as err:\n",
    "    print(\"Oops: Something Else\", err)"
   ]
  },
  {
   "cell_type": "code",
   "execution_count": null,
   "id": "4af7f0bf-b346-4c5e-ac2c-b94f18574a7c",
   "metadata": {},
   "outputs": [],
   "source": []
  }
 ],
 "metadata": {
  "kernelspec": {
   "display_name": "Python 3 (ipykernel)",
   "language": "python",
   "name": "python3"
  },
  "language_info": {
   "codemirror_mode": {
    "name": "ipython",
    "version": 3
   },
   "file_extension": ".py",
   "mimetype": "text/x-python",
   "name": "python",
   "nbconvert_exporter": "python",
   "pygments_lexer": "ipython3",
   "version": "3.11.6"
  }
 },
 "nbformat": 4,
 "nbformat_minor": 5
}
