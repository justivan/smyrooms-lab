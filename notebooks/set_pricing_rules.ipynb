{
 "cells": [
  {
   "cell_type": "code",
   "execution_count": 1,
   "id": "a6972255-2e38-4494-8b4e-8847cf282cc4",
   "metadata": {},
   "outputs": [],
   "source": [
    "import json\n",
    "from pathlib import Path\n",
    "\n",
    "import pandas as pd\n",
    "import requests\n",
    "\n",
    "from config import Config"
   ]
  },
  {
   "cell_type": "code",
   "execution_count": 2,
   "id": "8231ea28-7403-4621-94df-c19e9b2d4b5f",
   "metadata": {},
   "outputs": [],
   "source": [
    "base_dir = Path(\".\").resolve()\n",
    "data_dir = base_dir / \"data\""
   ]
  },
  {
   "cell_type": "code",
   "execution_count": 3,
   "id": "daf8fa1e-aa41-45e3-b9b5-ba492defe932",
   "metadata": {},
   "outputs": [],
   "source": [
    "url = \"https://distributor-rules.logitravelgroup.com/api/organizations/lgt/agencies/products/hot/level_commissions/new\"\n",
    "headers = {\n",
    "    \"Content-Type\": \"application/json\",\n",
    "    \"Accept\": \"text/plain\",\n",
    "    \"Authorization\": f\"ApiKey {Config.APIKEY}\",\n",
    "}"
   ]
  },
  {
   "cell_type": "code",
   "execution_count": 4,
   "id": "0cf39e88-7156-4982-8aa1-980b150fbe90",
   "metadata": {},
   "outputs": [],
   "source": [
    "csv_file = data_dir / \"pricing_rules_20241023.csv\""
   ]
  },
  {
   "cell_type": "code",
   "execution_count": 5,
   "id": "7912f6a8-ad32-4332-8da3-461ce755968b",
   "metadata": {},
   "outputs": [],
   "source": [
    "df = pd.read_csv(csv_file)"
   ]
  },
  {
   "cell_type": "code",
   "execution_count": 6,
   "id": "663aa589-599f-4a21-b3b5-e78281e41f64",
   "metadata": {},
   "outputs": [],
   "source": [
    "df[[\"bod_from\", \"bod_to\", \"cid_from\", \"cid_to\"]] = df[\n",
    "    [\"bod_from\", \"bod_to\", \"cid_from\", \"cid_to\"]\n",
    "].apply(pd.to_datetime, errors=\"coerce\", format=\"%d/%m/%Y\")"
   ]
  },
  {
   "cell_type": "code",
   "execution_count": 7,
   "id": "3a613217-06da-40ea-a25a-75bbd5fa241e",
   "metadata": {},
   "outputs": [],
   "source": [
    "df_grouped = (\n",
    "    df.groupby(\n",
    "        [\n",
    "            \"client_id\",\n",
    "            \"markup_modifier\",\n",
    "            \"bod_from\",\n",
    "            \"bod_to\",\n",
    "            \"cid_from\",\n",
    "            \"cid_to\",\n",
    "            \"dynamic\",\n",
    "        ],\n",
    "        dropna=False,\n",
    "    )\n",
    "    .agg({\"credential_id\": lambda x: list(set(map(str, x)))})\n",
    "    .reset_index()\n",
    ")"
   ]
  },
  {
   "cell_type": "code",
   "execution_count": 8,
   "id": "d23aa52d-9cc9-4c75-a0de-f8e87ebf2f5f",
   "metadata": {},
   "outputs": [],
   "source": [
    "df_grouped = df_grouped.replace({pd.NaT: None, pd.NA: None})"
   ]
  },
  {
   "cell_type": "code",
   "execution_count": 9,
   "id": "3ec69247-2d9d-4b99-b59b-e7e2110e86bc",
   "metadata": {},
   "outputs": [],
   "source": [
    "def get_date_range(date_values):\n",
    "    if date_values is None:\n",
    "        return {\"t\": 0}\n",
    "\n",
    "    from_date, to_date = date_values\n",
    "    if from_date is None or to_date is None:\n",
    "        return {\"t\": 0}\n",
    "    else:\n",
    "        return {\n",
    "            \"t\": 1,\n",
    "            \"f\": from_date.strftime(\"%Y-%m-%d\"),\n",
    "            \"u\": to_date.strftime(\"%Y-%m-%d\"),\n",
    "        }"
   ]
  },
  {
   "cell_type": "code",
   "execution_count": 10,
   "id": "5de34fa9-b2ca-4dae-a83f-0995829c9c25",
   "metadata": {
    "scrolled": true
   },
   "outputs": [
    {
     "name": "stdout",
     "output_type": "stream",
     "text": [
      "Processing row 1/40\n",
      "Processing row 2/40\n",
      "Processing row 3/40\n",
      "Processing row 4/40\n",
      "Processing row 5/40\n",
      "Processing row 6/40\n",
      "Processing row 7/40\n",
      "Processing row 8/40\n",
      "Processing row 9/40\n",
      "Processing row 10/40\n",
      "Processing row 11/40\n",
      "Processing row 12/40\n",
      "Processing row 13/40\n",
      "Processing row 14/40\n",
      "Processing row 15/40\n",
      "Processing row 16/40\n",
      "Processing row 17/40\n",
      "Processing row 18/40\n",
      "Processing row 19/40\n",
      "Processing row 20/40\n",
      "Processing row 21/40\n",
      "Processing row 22/40\n",
      "Processing row 23/40\n",
      "Processing row 24/40\n",
      "Processing row 25/40\n",
      "Processing row 26/40\n",
      "Processing row 27/40\n",
      "Processing row 28/40\n",
      "Processing row 29/40\n",
      "Processing row 30/40\n",
      "Processing row 31/40\n",
      "Processing row 32/40\n",
      "Processing row 33/40\n",
      "Processing row 34/40\n",
      "Processing row 35/40\n",
      "Processing row 36/40\n",
      "Processing row 37/40\n",
      "Processing row 38/40\n",
      "Processing row 39/40\n",
      "Processing row 40/40\n"
     ]
    }
   ],
   "source": [
    "results_list = []\n",
    "total_rows = len(df_grouped)\n",
    "\n",
    "for index, row in df_grouped.iterrows():\n",
    "    data = {\n",
    "        \"id\": None,\n",
    "        \"name\": f\"FY_Optimization_Client_{row['client_id']}\",\n",
    "        \"description\": \"FY Optimization\",\n",
    "        \"com\": row[\"markup_modifier\"],\n",
    "        \"lvl\": {\n",
    "            \"cli\": {\"t\": 1, \"l\": row[\"credential_id\"]},\n",
    "            \"cp\": 0,\n",
    "            \"rat\": 0,\n",
    "            \"prv\": {\"t\": 0, \"l\": None},\n",
    "            \"hot\": {\"t\": 0, \"l\": None},\n",
    "            \"mrk\": {\"t\": 0, \"l\": None},\n",
    "            \"mel\": {\"t\": 0, \"l\": None},\n",
    "            \"cid\": get_date_range([row[\"cid_from\"], row[\"cid_to\"]]),\n",
    "            \"bod\": get_date_range([row[\"bod_from\"], row[\"bod_to\"]]),\n",
    "            \"rel\": 0,\n",
    "            \"dow\": {\"t\": 0, \"l\": None},\n",
    "            \"age\": 0,\n",
    "            \"room\": {\"t\": 0, \"l\": None},\n",
    "            \"non\": {\"t\": 0, \"l\": None},\n",
    "            \"hou\": {\"t\": 0, \"l\": None},\n",
    "            \"isDynamicCommission\": row[\"dynamic\"],\n",
    "            \"ovr\": False,\n",
    "            \"prg\": {\"t\": 0, \"f\": 0, \"u\": 0},\n",
    "            \"ps\": {\"t\": 0, \"l\": None},\n",
    "        },\n",
    "    }\n",
    "\n",
    "    print(f\"Processing row {index + 1}/{total_rows}\")\n",
    "\n",
    "    try:\n",
    "        response = requests.put(url, headers=headers, json=data)\n",
    "\n",
    "        if response.status_code == 200:\n",
    "            data = response.json()[\"result\"]\n",
    "            data.update(data.pop(\"lvl\"))\n",
    "\n",
    "            results_list.append(data)\n",
    "\n",
    "        elif response.status_code == 404:\n",
    "            print(\"Error: Agencies not found.\")\n",
    "        else:\n",
    "            print(f\"Error: Received unexpected status code {response.status_code}.\")\n",
    "\n",
    "    except requests.exceptions.RequestException as e:\n",
    "        print(f\"An error occurred: {e}\")"
   ]
  },
  {
   "cell_type": "code",
   "execution_count": 11,
   "id": "31abccf9-b4f8-401c-9a3f-818ba5be1c1a",
   "metadata": {},
   "outputs": [],
   "source": [
    "metadata = {\n",
    "    \"editState\": \"edit_state\",\n",
    "    \"isObsolete\": \"obsolete\",\n",
    "    \"name\": \"name\",\n",
    "    \"description\": \"description\",\n",
    "    \"lastUser\": \"last_user\",\n",
    "    \"lastDate\": \"last_date\",\n",
    "    \"com\": \"commission\",\n",
    "    \"id\": \"id\",\n",
    "    \"rrg\": \"release_range\",\n",
    "    \"prg\": \"price_range\",\n",
    "    \"cli\": \"credential\",\n",
    "    \"ps\": \"paying_society\",\n",
    "    \"cp\": \"refundable\",\n",
    "    \"rat\": \"rate\",\n",
    "    \"prv\": \"provider\",\n",
    "    \"hot\": \"hotel\",\n",
    "    \"dest\": \"destination\",\n",
    "    \"mrk\": \"market\",\n",
    "    \"mel\": \"meal\",\n",
    "    \"cid\": \"check_in\",\n",
    "    \"bod\": \"booking_date\",\n",
    "    \"rel\": \"max_release\",\n",
    "    \"isDynamicCommission\": \"dynamic\",\n",
    "    \"over\": \"override\",\n",
    "    \"dow\": \"days_of_week\",\n",
    "    \"age\": \"age\",\n",
    "    \"room\": \"room\",\n",
    "    \"non\": \"num_of_nights\",\n",
    "    \"hou\": \"hours\",\n",
    "    \"level_mapping\": {\"t\": \"level\", \"l\": \"list\", \"f\": \"from\", \"u\": \"to\"},\n",
    "}"
   ]
  },
  {
   "cell_type": "code",
   "execution_count": 12,
   "id": "b42bc5d2-6b09-47a4-b5aa-e74662586489",
   "metadata": {},
   "outputs": [],
   "source": [
    "for rule in results_list:\n",
    "    # Rename keys according to metadata\n",
    "    for key in list(rule.keys()):\n",
    "        if key in metadata:\n",
    "            rule[metadata[key]] = rule.pop(key)\n",
    "\n",
    "    # Handle nested dictionary for level mapping\n",
    "    level_mapping = metadata[\"level_mapping\"]\n",
    "    for key, value in rule.items():\n",
    "        if isinstance(value, dict):\n",
    "            for k in list(value.keys()):\n",
    "                if k in level_mapping:\n",
    "                    value[level_mapping[k]] = value.pop(k)"
   ]
  },
  {
   "cell_type": "code",
   "execution_count": 13,
   "id": "1c809bf3-f40e-45eb-adad-a5c5424be58e",
   "metadata": {},
   "outputs": [],
   "source": [
    "df_rules = pd.json_normalize(results_list, sep=\"_\")"
   ]
  },
  {
   "cell_type": "code",
   "execution_count": 14,
   "id": "f3674ce0-e2a0-4177-9f57-0338c86fa401",
   "metadata": {},
   "outputs": [],
   "source": [
    "df_rules = df_rules[\n",
    "    [\n",
    "        \"id\",\n",
    "        \"last_user\",\n",
    "        \"last_date\",\n",
    "        \"name\",\n",
    "        \"description\",\n",
    "        \"credential_level\",\n",
    "        \"credential_list\",\n",
    "        \"rate\",\n",
    "        \"provider_level\",\n",
    "        \"provider_list\",\n",
    "        \"hotel_level\",\n",
    "        \"hotel_list\",\n",
    "        \"refundable\",\n",
    "        \"meal_level\",\n",
    "        \"meal_list\",\n",
    "        \"market_level\",\n",
    "        \"market_list\",\n",
    "        \"paying_society_level\",\n",
    "        \"paying_society_list\",\n",
    "        \"check_in_level\",\n",
    "        \"check_in_from\",\n",
    "        \"check_in_to\",\n",
    "        \"booking_date_level\",\n",
    "        \"booking_date_from\",\n",
    "        \"booking_date_to\",\n",
    "        \"commission\",\n",
    "        \"ovr\",\n",
    "        \"dynamic\",\n",
    "        \"max_release\",\n",
    "        \"days_of_week_level\",\n",
    "        \"days_of_week_list\",\n",
    "        \"age\",\n",
    "        \"room_level\",\n",
    "        \"room_list\",\n",
    "        \"num_of_nights_level\",\n",
    "        \"num_of_nights_list\",\n",
    "        \"hours_level\",\n",
    "        \"hours_list\",\n",
    "        \"price_range_level\",\n",
    "        \"price_range_from\",\n",
    "        \"price_range_to\",\n",
    "        \"release_range_level\",\n",
    "        \"release_range_from\",\n",
    "        \"release_range_to\",\n",
    "    ]\n",
    "]"
   ]
  },
  {
   "cell_type": "code",
   "execution_count": 15,
   "id": "fd6bea87-29ce-4b04-831d-e1312f810f14",
   "metadata": {},
   "outputs": [],
   "source": [
    "from datetime import datetime\n",
    "\n",
    "df_rules.to_csv(\n",
    "    f\"pricing_rules_{datetime.today().strftime('%Y%m%d_%H%M%S')}.csv\", index=False\n",
    ")"
   ]
  },
  {
   "cell_type": "code",
   "execution_count": null,
   "id": "3473ec1a-f473-4040-9d09-c3fff6a6aca4",
   "metadata": {},
   "outputs": [],
   "source": []
  }
 ],
 "metadata": {
  "kernelspec": {
   "display_name": "Python 3 (ipykernel)",
   "language": "python",
   "name": "python3"
  },
  "language_info": {
   "codemirror_mode": {
    "name": "ipython",
    "version": 3
   },
   "file_extension": ".py",
   "mimetype": "text/x-python",
   "name": "python",
   "nbconvert_exporter": "python",
   "pygments_lexer": "ipython3",
   "version": "3.11.6"
  }
 },
 "nbformat": 4,
 "nbformat_minor": 5
}
