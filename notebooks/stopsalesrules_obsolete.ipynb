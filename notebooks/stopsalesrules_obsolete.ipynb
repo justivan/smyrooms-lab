{
 "cells": [
  {
   "cell_type": "code",
   "execution_count": 1,
   "id": "0b89f0d5-d949-4544-8662-0d41f2abc9f3",
   "metadata": {},
   "outputs": [],
   "source": [
    "import json\n",
    "from datetime import datetime, timedelta\n",
    "\n",
    "import pandas as pd\n",
    "import requests\n",
    "\n",
    "from utils import DistributorApi"
   ]
  },
  {
   "cell_type": "code",
   "execution_count": 2,
   "id": "65fef3cf-3f33-4914-8d37-c86e7ca0a19a",
   "metadata": {},
   "outputs": [],
   "source": [
    "api = DistributorApi()"
   ]
  },
  {
   "cell_type": "code",
   "execution_count": 3,
   "id": "851d8651-254d-483b-ad12-22832c81d9a4",
   "metadata": {},
   "outputs": [],
   "source": [
    "rules = api.get_all_rules()"
   ]
  },
  {
   "cell_type": "code",
   "execution_count": 4,
   "id": "7245c06e-a739-4735-9c3c-fb4ed523c60d",
   "metadata": {},
   "outputs": [],
   "source": [
    "df_rules = pd.json_normalize(rules, sep=\"_\")\n",
    "df_rules = df_rules[\n",
    "    [\n",
    "        \"id\",\n",
    "        \"name\",\n",
    "        \"description\",\n",
    "        \"tag\",\n",
    "        \"edit_state\",\n",
    "        \"obsolete\",\n",
    "        \"updated_by\",\n",
    "        \"updated_on\",\n",
    "        \"credential_level\",\n",
    "        \"credential_list\",\n",
    "        \"provider_level\",\n",
    "        \"provider_list\",\n",
    "        \"hotel_level\",\n",
    "        \"hotel_list\",\n",
    "        \"destination_level\",\n",
    "        \"destination_list\",\n",
    "        \"rate\",\n",
    "        \"refundable\",\n",
    "        \"market_level\",\n",
    "        \"market_list\",\n",
    "        \"meal_level\",\n",
    "        \"meal_list\",\n",
    "        \"check_in_level\",\n",
    "        \"check_in_from\",\n",
    "        \"check_in_to\",\n",
    "        \"booking_date_level\",\n",
    "        \"booking_date_from\",\n",
    "        \"booking_date_to\",\n",
    "        \"range_level\",\n",
    "        \"range_from\",\n",
    "        \"range_to\",\n",
    "        \"max_release\",\n",
    "        \"days_of_week_level\",\n",
    "        \"days_of_week_list\",\n",
    "        \"age\",\n",
    "        \"room_level\",\n",
    "        \"room_list\",\n",
    "        \"num_of_nights_level\",\n",
    "        \"num_of_nights_list\",\n",
    "        \"hours_level\",\n",
    "        \"hours_list\",\n",
    "        \"dynamic_commission\",\n",
    "    ]\n",
    "]\n",
    "\n",
    "date_cols = [\n",
    "    \"updated_on\",\n",
    "    \"check_in_from\",\n",
    "    \"check_in_to\",\n",
    "    \"booking_date_from\",\n",
    "    \"booking_date_to\",\n",
    "]\n",
    "df_rules[date_cols] = df_rules[date_cols].apply(pd.to_datetime, errors=\"coerce\")"
   ]
  },
  {
   "cell_type": "code",
   "execution_count": 5,
   "id": "85924174-b440-4500-9249-bffc311b9d9b",
   "metadata": {},
   "outputs": [],
   "source": [
    "obsolete_rules = df_rules[df_rules[\"obsolete\"]]"
   ]
  },
  {
   "cell_type": "code",
   "execution_count": 6,
   "id": "b9e0613b-39f9-4623-a1a7-c7063396e585",
   "metadata": {},
   "outputs": [],
   "source": [
    "today = datetime.today()\n",
    "last_month = today - timedelta(days=30)"
   ]
  },
  {
   "cell_type": "code",
   "execution_count": 7,
   "id": "f675355d-d408-4d66-8749-a5c6c708c008",
   "metadata": {},
   "outputs": [],
   "source": [
    "df_filtered = obsolete_rules[\n",
    "    (obsolete_rules[\"check_in_to\"] <= last_month)\n",
    "    | (obsolete_rules[\"booking_date_to\"] <= last_month)\n",
    "]"
   ]
  },
  {
   "cell_type": "code",
   "execution_count": 8,
   "id": "a8019a72-ca3a-4d4e-b0d6-f65ebfea2eaf",
   "metadata": {},
   "outputs": [
    {
     "data": {
      "text/plain": [
       "[]"
      ]
     },
     "execution_count": 8,
     "metadata": {},
     "output_type": "execute_result"
    }
   ],
   "source": [
    "rule_ids = list(df_filtered[\"id\"])\n",
    "rule_ids"
   ]
  },
  {
   "cell_type": "code",
   "execution_count": 9,
   "id": "32f89da6-a1dc-4ae6-8043-ea47f7b33971",
   "metadata": {},
   "outputs": [
    {
     "name": "stdout",
     "output_type": "stream",
     "text": [
      "No rule IDs provided.\n"
     ]
    }
   ],
   "source": [
    "# Uncomment to delete\n",
    "# deleted_rules = api.delete_rules(rule_ids)"
   ]
  },
  {
   "cell_type": "code",
   "execution_count": 10,
   "id": "1d6217ba-ba57-4dc2-a55d-d9439421f134",
   "metadata": {},
   "outputs": [],
   "source": [
    "df_filtered.to_csv(\n",
    "    f\"deleted_rules_{today.strftime('%Y%m%d_%H%M%S')}_obsolete.csv\", index=False\n",
    ")"
   ]
  }
 ],
 "metadata": {
  "kernelspec": {
   "display_name": "Python 3 (ipykernel)",
   "language": "python",
   "name": "python3"
  },
  "language_info": {
   "codemirror_mode": {
    "name": "ipython",
    "version": 3
   },
   "file_extension": ".py",
   "mimetype": "text/x-python",
   "name": "python",
   "nbconvert_exporter": "python",
   "pygments_lexer": "ipython3",
   "version": "3.11.6"
  }
 },
 "nbformat": 4,
 "nbformat_minor": 5
}
