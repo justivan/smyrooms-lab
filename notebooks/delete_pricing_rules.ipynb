{
 "cells": [
  {
   "cell_type": "code",
   "execution_count": 1,
   "id": "a6972255-2e38-4494-8b4e-8847cf282cc4",
   "metadata": {},
   "outputs": [],
   "source": [
    "import json\n",
    "from pathlib import Path\n",
    "\n",
    "import pandas as pd\n",
    "import requests\n",
    "\n",
    "from config import Config"
   ]
  },
  {
   "cell_type": "code",
   "execution_count": 2,
   "id": "8b65ea03-c5f1-4915-81f5-b782a778d65f",
   "metadata": {},
   "outputs": [],
   "source": [
    "pd.set_option(\"display.max_columns\", None)\n",
    "pd.set_option(\"display.max_rows\", None)\n",
    "pd.set_option(\"display.float_format\", \"{:,.2f}\".format)"
   ]
  },
  {
   "cell_type": "code",
   "execution_count": 3,
   "id": "8231ea28-7403-4621-94df-c19e9b2d4b5f",
   "metadata": {},
   "outputs": [],
   "source": [
    "base_dir = Path(\".\").resolve()\n",
    "data_dir = base_dir / \"data\""
   ]
  },
  {
   "cell_type": "code",
   "execution_count": 4,
   "id": "daf8fa1e-aa41-45e3-b9b5-ba492defe932",
   "metadata": {},
   "outputs": [],
   "source": [
    "url = \"https://distributor-rules.logitravelgroup.com/api/organizations/lgt/agencies/products/hot/level_commissions/\"\n",
    "headers = {\n",
    "    \"Content-Type\": \"application/json\",\n",
    "    \"Accept\": \"text/plain\",\n",
    "    \"Authorization\": f\"ApiKey {Config.APIKEY}\",\n",
    "}"
   ]
  },
  {
   "cell_type": "code",
   "execution_count": 11,
   "id": "6ba5fac3-1053-4bf1-952a-038a87cbf67d",
   "metadata": {},
   "outputs": [],
   "source": [
    "rules = [\n",
    "    \"14314\",\n",
    "    \"14315\",\n",
    "    \"14316\",\n",
    "    \"14317\",\n",
    "    \"14318\",\n",
    "    \"14319\",\n",
    "    \"14320\",\n",
    "    \"14321\",\n",
    "    \"14322\",\n",
    "    \"14323\",\n",
    "    \"14324\",\n",
    "    \"14325\",\n",
    "    \"14326\",\n",
    "    \"14327\",\n",
    "    \"14328\",\n",
    "    \"14329\",\n",
    "    \"14330\",\n",
    "    \"14331\",\n",
    "    \"14332\",\n",
    "    \"14333\",\n",
    "    \"14334\",\n",
    "    \"14335\",\n",
    "    \"14336\",\n",
    "    \"14337\",\n",
    "    \"14338\",\n",
    "    \"14339\",\n",
    "    \"14340\",\n",
    "    \"14341\",\n",
    "    \"14342\",\n",
    "    \"14343\",\n",
    "]"
   ]
  },
  {
   "cell_type": "code",
   "execution_count": 12,
   "id": "3473ec1a-f473-4040-9d09-c3fff6a6aca4",
   "metadata": {},
   "outputs": [
    {
     "name": "stdout",
     "output_type": "stream",
     "text": [
      "{\"result\":true,\"message\":null}\n",
      "Rules deleted successfully.\n"
     ]
    }
   ],
   "source": [
    "try:\n",
    "    r = requests.delete(\n",
    "        url,\n",
    "        headers=headers,\n",
    "        data=json.dumps(rules),\n",
    "    )\n",
    "    r.raise_for_status()\n",
    "    print(r.text)\n",
    "    print(\"Rules deleted successfully.\")\n",
    "\n",
    "except requests.exceptions.HTTPError as errh:\n",
    "    print(\"Http Error:\", errh)\n",
    "except requests.exceptions.ConnectionError as errc:\n",
    "    print(\"Error Connecting:\", errc)\n",
    "except requests.exceptions.Timeout as errt:\n",
    "    print(\"Timeout Error:\", errt)\n",
    "except requests.exceptions.RequestException as err:\n",
    "    print(\"Oops: Something Else\", err)"
   ]
  },
  {
   "cell_type": "code",
   "execution_count": null,
   "id": "c292a339-3082-4b2c-814a-a06a87e1af1a",
   "metadata": {},
   "outputs": [],
   "source": []
  }
 ],
 "metadata": {
  "kernelspec": {
   "display_name": "Python 3 (ipykernel)",
   "language": "python",
   "name": "python3"
  },
  "language_info": {
   "codemirror_mode": {
    "name": "ipython",
    "version": 3
   },
   "file_extension": ".py",
   "mimetype": "text/x-python",
   "name": "python",
   "nbconvert_exporter": "python",
   "pygments_lexer": "ipython3",
   "version": "3.11.6"
  }
 },
 "nbformat": 4,
 "nbformat_minor": 5
}
