{
 "cells": [
  {
   "cell_type": "code",
   "execution_count": 1,
   "id": "0ae50ac9-9e72-4970-ae2e-aeb4400da1ea",
   "metadata": {},
   "outputs": [],
   "source": [
    "import json\n",
    "from datetime import datetime, timedelta\n",
    "\n",
    "import pandas as pd\n",
    "import requests\n",
    "\n",
    "from utils import DistributorApi"
   ]
  },
  {
   "cell_type": "code",
   "execution_count": 12,
   "id": "0261727f-5bda-454b-8964-a65c2aa6b563",
   "metadata": {},
   "outputs": [],
   "source": [
    "api = DistributorApi()"
   ]
  },
  {
   "cell_type": "code",
   "execution_count": 13,
   "id": "c50885c4-2e86-482b-92a1-f3705b03368d",
   "metadata": {},
   "outputs": [],
   "source": [
    "rules = api.get_all_rules()\n",
    "df_rules = pd.json_normalize(rules, sep=\"_\")\n",
    "df_rules = df_rules[\n",
    "    [\n",
    "        \"id\",\n",
    "        \"name\",\n",
    "        \"description\",\n",
    "        \"tag\",\n",
    "        \"edit_state\",\n",
    "        \"obsolete\",\n",
    "        \"updated_by\",\n",
    "        \"updated_on\",\n",
    "        \"credential_level\",\n",
    "        \"credential_list\",\n",
    "        \"provider_level\",\n",
    "        \"provider_list\",\n",
    "        \"hotel_level\",\n",
    "        \"hotel_list\",\n",
    "        \"destination_level\",\n",
    "        \"destination_list\",\n",
    "        \"rate\",\n",
    "        \"refundable\",\n",
    "        \"market_level\",\n",
    "        \"market_list\",\n",
    "        \"meal_level\",\n",
    "        \"meal_list\",\n",
    "        \"check_in_level\",\n",
    "        \"check_in_from\",\n",
    "        \"check_in_to\",\n",
    "        \"booking_date_level\",\n",
    "        \"booking_date_from\",\n",
    "        \"booking_date_to\",\n",
    "        \"range_level\",\n",
    "        \"range_from\",\n",
    "        \"range_to\",\n",
    "        \"max_release\",\n",
    "        \"days_of_week_level\",\n",
    "        \"days_of_week_list\",\n",
    "        \"age\",\n",
    "        \"room_level\",\n",
    "        \"room_list\",\n",
    "        \"num_of_nights_level\",\n",
    "        \"num_of_nights_list\",\n",
    "        \"hours_level\",\n",
    "        \"hours_list\",\n",
    "        \"dynamic_commission\",\n",
    "    ]\n",
    "]\n",
    "\n",
    "date_cols = [\n",
    "    \"updated_on\",\n",
    "    \"check_in_from\",\n",
    "    \"check_in_to\",\n",
    "    \"booking_date_from\",\n",
    "    \"booking_date_to\",\n",
    "]\n",
    "df_rules[date_cols] = df_rules[date_cols].apply(pd.to_datetime, errors=\"coerce\")"
   ]
  },
  {
   "cell_type": "code",
   "execution_count": 14,
   "id": "7318ef33-bd0a-4605-ac41-bcec61eff0ee",
   "metadata": {},
   "outputs": [],
   "source": [
    "df_filtered = df_rules[df_rules[\"credential_level\"] == 1]\n",
    "# expanded_clients = expanded_clients.explode('credential_list').reset_index(drop=True)"
   ]
  },
  {
   "cell_type": "code",
   "execution_count": 15,
   "id": "f9ac7fcb-f919-4c1f-9b8f-1d983b9e678b",
   "metadata": {},
   "outputs": [
    {
     "data": {
      "text/plain": [
       "(1772, 42)"
      ]
     },
     "execution_count": 15,
     "metadata": {},
     "output_type": "execute_result"
    }
   ],
   "source": [
    "df_filtered.shape"
   ]
  },
  {
   "cell_type": "code",
   "execution_count": 16,
   "id": "2a5faed2-f804-4344-9a62-a50abff43dcc",
   "metadata": {},
   "outputs": [],
   "source": [
    "df_filtered.to_csv(\"df_filtered.csv\", index=False)"
   ]
  },
  {
   "cell_type": "code",
   "execution_count": null,
   "id": "ff27bb8a-1e50-435c-b472-e2f597bd6327",
   "metadata": {},
   "outputs": [],
   "source": []
  }
 ],
 "metadata": {
  "kernelspec": {
   "display_name": "Python 3 (ipykernel)",
   "language": "python",
   "name": "python3"
  },
  "language_info": {
   "codemirror_mode": {
    "name": "ipython",
    "version": 3
   },
   "file_extension": ".py",
   "mimetype": "text/x-python",
   "name": "python",
   "nbconvert_exporter": "python",
   "pygments_lexer": "ipython3",
   "version": "3.11.6"
  }
 },
 "nbformat": 4,
 "nbformat_minor": 5
}
