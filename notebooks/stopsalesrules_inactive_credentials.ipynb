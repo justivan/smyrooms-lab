{
 "cells": [
  {
   "cell_type": "code",
   "execution_count": 1,
   "id": "0ae50ac9-9e72-4970-ae2e-aeb4400da1ea",
   "metadata": {},
   "outputs": [],
   "source": [
    "import json\n",
    "from datetime import datetime\n",
    "\n",
    "import pandas as pd\n",
    "import requests\n",
    "from sqlalchemy import select\n",
    "from sqlalchemy.orm import aliased\n",
    "\n",
    "from database import Database\n",
    "from utils import DistributorApi"
   ]
  },
  {
   "cell_type": "code",
   "execution_count": 2,
   "id": "0261727f-5bda-454b-8964-a65c2aa6b563",
   "metadata": {},
   "outputs": [],
   "source": [
    "api = DistributorApi()\n",
    "db = Database()"
   ]
  },
  {
   "cell_type": "code",
   "execution_count": 18,
   "id": "c50885c4-2e86-482b-92a1-f3705b03368d",
   "metadata": {},
   "outputs": [],
   "source": [
    "# stop sales rules from Distributor API\n",
    "\n",
    "rules = api.get_all_rules()\n",
    "df_rules = pd.json_normalize(rules, sep=\"_\")\n",
    "df_rules = df_rules[\n",
    "    [\n",
    "        \"id\",\n",
    "        \"name\",\n",
    "        \"description\",\n",
    "        \"tag\",\n",
    "        \"edit_state\",\n",
    "        \"obsolete\",\n",
    "        \"updated_by\",\n",
    "        \"updated_on\",\n",
    "        \"credential_level\",\n",
    "        \"credential_list\",\n",
    "        \"provider_level\",\n",
    "        \"provider_list\",\n",
    "        \"hotel_level\",\n",
    "        \"hotel_list\",\n",
    "        \"destination_level\",\n",
    "        \"destination_list\",\n",
    "        \"rate\",\n",
    "        \"refundable\",\n",
    "        \"market_level\",\n",
    "        \"market_list\",\n",
    "        \"meal_level\",\n",
    "        \"meal_list\",\n",
    "        \"check_in_level\",\n",
    "        \"check_in_from\",\n",
    "        \"check_in_to\",\n",
    "        \"booking_date_level\",\n",
    "        \"booking_date_from\",\n",
    "        \"booking_date_to\",\n",
    "        \"range_level\",\n",
    "        \"range_from\",\n",
    "        \"range_to\",\n",
    "        \"max_release\",\n",
    "        \"days_of_week_level\",\n",
    "        \"days_of_week_list\",\n",
    "        \"age\",\n",
    "        \"room_level\",\n",
    "        \"room_list\",\n",
    "        \"num_of_nights_level\",\n",
    "        \"num_of_nights_list\",\n",
    "        \"hours_level\",\n",
    "        \"hours_list\",\n",
    "        \"dynamic_commission\",\n",
    "    ]\n",
    "]"
   ]
  },
  {
   "cell_type": "code",
   "execution_count": 19,
   "id": "2ede1ae1-b95f-434e-8349-ef235e3b9a0e",
   "metadata": {},
   "outputs": [
    {
     "data": {
      "text/plain": [
       "(3327, 42)"
      ]
     },
     "execution_count": 19,
     "metadata": {},
     "output_type": "execute_result"
    }
   ],
   "source": [
    "df_rules.shape"
   ]
  },
  {
   "cell_type": "code",
   "execution_count": 20,
   "id": "814af8ff-5be9-4db9-95ab-bb040f3598d2",
   "metadata": {},
   "outputs": [],
   "source": [
    "# clients_credential from discovery\n",
    "\n",
    "cc = aliased(db.clients_credential)\n",
    "df_credentials = pd.read_sql(\n",
    "    sql=select(cc.c.id.label(\"credential_id\"), cc.c.enabled), con=db.engine.connect()\n",
    ")"
   ]
  },
  {
   "cell_type": "code",
   "execution_count": 21,
   "id": "7318ef33-bd0a-4605-ac41-bcec61eff0ee",
   "metadata": {},
   "outputs": [],
   "source": [
    "# fitler for tags empty, product, customer request and credential list\n",
    "\n",
    "df_rules_filtered = df_rules[\n",
    "    (df_rules[\"credential_level\"] == 1) & (df_rules[\"tag\"].isin([-1, 1, 3]))\n",
    "] \n",
    "df_rules_expanded = df_rules_filtered.explode(\"credential_list\").reset_index(drop=True)"
   ]
  },
  {
   "cell_type": "code",
   "execution_count": 22,
   "id": "4040224d-a0b6-45c4-a6a4-e72043d88886",
   "metadata": {},
   "outputs": [
    {
     "data": {
      "text/plain": [
       "(1116, 42)"
      ]
     },
     "execution_count": 22,
     "metadata": {},
     "output_type": "execute_result"
    }
   ],
   "source": [
    "df_rules_filtered.shape"
   ]
  },
  {
   "cell_type": "code",
   "execution_count": 23,
   "id": "72230b79-888a-4532-8594-afe7e8e1b75b",
   "metadata": {},
   "outputs": [],
   "source": [
    "df_rules_expanded[\"credential_id\"] = df_rules_expanded[\"credential_list\"]\n",
    "df_rules_expanded = df_rules_expanded.merge(\n",
    "    df_credentials, on=\"credential_id\", how=\"left\"\n",
    ")"
   ]
  },
  {
   "cell_type": "code",
   "execution_count": 24,
   "id": "593aa4b3-0230-44a0-bfb8-619b741d5e66",
   "metadata": {},
   "outputs": [
    {
     "data": {
      "text/plain": [
       "(141752, 44)"
      ]
     },
     "execution_count": 24,
     "metadata": {},
     "output_type": "execute_result"
    }
   ],
   "source": [
    "df_rules_expanded.shape"
   ]
  },
  {
   "cell_type": "code",
   "execution_count": 25,
   "id": "b82172d2-feff-4776-bcc6-5289e58f73bb",
   "metadata": {},
   "outputs": [],
   "source": [
    "df_regrouped = (\n",
    "    df_rules_expanded.groupby([\"id\"])\n",
    "    .agg(\n",
    "        credential_count=(\"credential_id\", \"count\"),\n",
    "        enabled=(\"enabled\", lambda x: (x == True).sum()),\n",
    "        disabled=(\"enabled\", lambda x: (x == False).sum()),\n",
    "    )\n",
    "    .reset_index()\n",
    ")\n",
    "\n",
    "df_regrouped[\"disabled_percentage\"] = (df_regrouped[\"disabled\"] * 100.0) / df_regrouped[\n",
    "    \"credential_count\"\n",
    "]\n",
    "\n",
    "# filter for rules where 100% of the credentials are disabled\n",
    "# df_regrouped = df_regrouped[df_regrouped[\"disabled_percentage\"] == 100]"
   ]
  },
  {
   "cell_type": "code",
   "execution_count": 26,
   "id": "0320f590-e193-40ff-8f74-83b2c77693b2",
   "metadata": {},
   "outputs": [
    {
     "data": {
      "text/plain": [
       "(1116, 5)"
      ]
     },
     "execution_count": 26,
     "metadata": {},
     "output_type": "execute_result"
    }
   ],
   "source": [
    "df_regrouped.shape"
   ]
  },
  {
   "cell_type": "code",
   "execution_count": 27,
   "id": "8af6d91f-30ef-45b2-808f-3e1485cf51f5",
   "metadata": {},
   "outputs": [],
   "source": [
    "df_rules_inactive_creds = df_rules_filtered.merge(df_regrouped, on=\"id\", how=\"right\")"
   ]
  },
  {
   "cell_type": "code",
   "execution_count": 28,
   "id": "e9ef989e-120a-428e-8ac7-ad74afd6bd28",
   "metadata": {},
   "outputs": [
    {
     "data": {
      "text/plain": [
       "(1116, 46)"
      ]
     },
     "execution_count": 28,
     "metadata": {},
     "output_type": "execute_result"
    }
   ],
   "source": [
    "df_rules_inactive_creds.shape"
   ]
  },
  {
   "cell_type": "code",
   "execution_count": 29,
   "id": "ac5f7469-c688-487c-b7cd-84ee9b74d1ba",
   "metadata": {},
   "outputs": [],
   "source": [
    "df_rules_inactive_creds.to_csv(\"df_rules_inactive_creds.csv\", index=False)"
   ]
  },
  {
   "cell_type": "code",
   "execution_count": 30,
   "id": "adec97df-059f-4668-8679-eae46524d316",
   "metadata": {},
   "outputs": [],
   "source": [
    "# rule_ids = list(df_regrouped[\"id\"])\n",
    "# rule_ids"
   ]
  },
  {
   "cell_type": "code",
   "execution_count": 31,
   "id": "67a12848-6900-4205-a110-c74b3061552b",
   "metadata": {},
   "outputs": [],
   "source": [
    "# Uncomment to delete\n",
    "# deleted_rules = api.delete_rules(rule_ids)"
   ]
  },
  {
   "cell_type": "code",
   "execution_count": 32,
   "id": "409866e7-7918-411f-a3c8-810febef10aa",
   "metadata": {},
   "outputs": [],
   "source": [
    "df_rules_inactive_creds.to_csv(\n",
    "    f\"deleted_rules_{datetime.today().strftime('%Y%m%d_%H%M%S')}_with_inactive_creds.csv\",\n",
    "    index=False,\n",
    ")"
   ]
  },
  {
   "cell_type": "code",
   "execution_count": 34,
   "id": "53c75e5a-50d3-434a-a567-1c681ab53a42",
   "metadata": {},
   "outputs": [
    {
     "data": {
      "text/plain": [
       "(83364, 44)"
      ]
     },
     "execution_count": 34,
     "metadata": {},
     "output_type": "execute_result"
    }
   ],
   "source": [
    "df_rules_expanded[df_rules_expanded[\"enabled\"]].shape"
   ]
  },
  {
   "cell_type": "code",
   "execution_count": null,
   "id": "b6603ad7-8bd9-4b27-b5de-3d713c5d8330",
   "metadata": {},
   "outputs": [],
   "source": []
  }
 ],
 "metadata": {
  "kernelspec": {
   "display_name": "Python 3 (ipykernel)",
   "language": "python",
   "name": "python3"
  },
  "language_info": {
   "codemirror_mode": {
    "name": "ipython",
    "version": 3
   },
   "file_extension": ".py",
   "mimetype": "text/x-python",
   "name": "python",
   "nbconvert_exporter": "python",
   "pygments_lexer": "ipython3",
   "version": "3.11.6"
  }
 },
 "nbformat": 4,
 "nbformat_minor": 5
}
