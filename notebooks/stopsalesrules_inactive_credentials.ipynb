{
 "cells": [
  {
   "cell_type": "code",
   "execution_count": 1,
   "id": "0ae50ac9-9e72-4970-ae2e-aeb4400da1ea",
   "metadata": {},
   "outputs": [],
   "source": [
    "import json\n",
    "from datetime import datetime\n",
    "\n",
    "import pandas as pd\n",
    "import requests\n",
    "from sqlalchemy import select\n",
    "from sqlalchemy.orm import aliased\n",
    "\n",
    "from database import Database\n",
    "from utils import DistributorApi"
   ]
  },
  {
   "cell_type": "code",
   "execution_count": 2,
   "id": "0261727f-5bda-454b-8964-a65c2aa6b563",
   "metadata": {},
   "outputs": [],
   "source": [
    "api = DistributorApi()\n",
    "db = Database()"
   ]
  },
  {
   "cell_type": "code",
   "execution_count": 8,
   "id": "c50885c4-2e86-482b-92a1-f3705b03368d",
   "metadata": {},
   "outputs": [
    {
     "name": "stdout",
     "output_type": "stream",
     "text": [
      "Rules retrieved successfully.\n"
     ]
    }
   ],
   "source": [
    "rules = api.get_stopsale_rules()\n",
    "df_rules = api.stopsale_rules_to_df(rules)"
   ]
  },
  {
   "cell_type": "code",
   "execution_count": 9,
   "id": "2ede1ae1-b95f-434e-8349-ef235e3b9a0e",
   "metadata": {},
   "outputs": [
    {
     "data": {
      "text/html": [
       "<div>\n",
       "<style scoped>\n",
       "    .dataframe tbody tr th:only-of-type {\n",
       "        vertical-align: middle;\n",
       "    }\n",
       "\n",
       "    .dataframe tbody tr th {\n",
       "        vertical-align: top;\n",
       "    }\n",
       "\n",
       "    .dataframe thead th {\n",
       "        text-align: right;\n",
       "    }\n",
       "</style>\n",
       "<table border=\"1\" class=\"dataframe\">\n",
       "  <thead>\n",
       "    <tr style=\"text-align: right;\">\n",
       "      <th></th>\n",
       "      <th>refundable</th>\n",
       "      <th>rate</th>\n",
       "      <th>max_release</th>\n",
       "      <th>dynamic_commission</th>\n",
       "      <th>age</th>\n",
       "      <th>edit_state</th>\n",
       "      <th>obsolete</th>\n",
       "      <th>name</th>\n",
       "      <th>description</th>\n",
       "      <th>updated_by</th>\n",
       "      <th>...</th>\n",
       "      <th>booking_date_from</th>\n",
       "      <th>booking_date_to</th>\n",
       "      <th>days_of_week_level</th>\n",
       "      <th>days_of_week_list</th>\n",
       "      <th>room_level</th>\n",
       "      <th>room_list</th>\n",
       "      <th>num_of_nights_level</th>\n",
       "      <th>num_of_nights_list</th>\n",
       "      <th>hours_level</th>\n",
       "      <th>hours_list</th>\n",
       "    </tr>\n",
       "  </thead>\n",
       "  <tbody>\n",
       "    <tr>\n",
       "      <th>0</th>\n",
       "      <td>0</td>\n",
       "      <td>0</td>\n",
       "      <td>0</td>\n",
       "      <td>False</td>\n",
       "      <td>0</td>\n",
       "      <td>1</td>\n",
       "      <td>False</td>\n",
       "      <td>Cerrado todo menos retail - Hotel Regente / Av...</td>\n",
       "      <td>CDH-3221\\nCDH-3624\\n CDH-3222\\n+ Huizhi\\nCDH-2...</td>\n",
       "      <td>jesus.aenlle@traveltino.com</td>\n",
       "      <td>...</td>\n",
       "      <td>None</td>\n",
       "      <td>None</td>\n",
       "      <td>0</td>\n",
       "      <td>None</td>\n",
       "      <td>0</td>\n",
       "      <td>None</td>\n",
       "      <td>0</td>\n",
       "      <td>None</td>\n",
       "      <td>0</td>\n",
       "      <td>None</td>\n",
       "    </tr>\n",
       "    <tr>\n",
       "      <th>1</th>\n",
       "      <td>0</td>\n",
       "      <td>0</td>\n",
       "      <td>0</td>\n",
       "      <td>False</td>\n",
       "      <td>0</td>\n",
       "      <td>1</td>\n",
       "      <td>False</td>\n",
       "      <td>Blocked Provider for Hotel 113841</td>\n",
       "      <td>Automatic providers blocked algorithm.</td>\n",
       "      <td>AzureFunctions</td>\n",
       "      <td>...</td>\n",
       "      <td>None</td>\n",
       "      <td>None</td>\n",
       "      <td>0</td>\n",
       "      <td>None</td>\n",
       "      <td>0</td>\n",
       "      <td>None</td>\n",
       "      <td>0</td>\n",
       "      <td>None</td>\n",
       "      <td>0</td>\n",
       "      <td>None</td>\n",
       "    </tr>\n",
       "    <tr>\n",
       "      <th>2</th>\n",
       "      <td>0</td>\n",
       "      <td>0</td>\n",
       "      <td>0</td>\n",
       "      <td>False</td>\n",
       "      <td>0</td>\n",
       "      <td>1</td>\n",
       "      <td>False</td>\n",
       "      <td>Falkensteiner Resort Capo Boi</td>\n",
       "      <td>Requested by Mario 07/02/2020</td>\n",
       "      <td>pau.cespedes@logitravelgroup.com</td>\n",
       "      <td>...</td>\n",
       "      <td>None</td>\n",
       "      <td>None</td>\n",
       "      <td>0</td>\n",
       "      <td>None</td>\n",
       "      <td>0</td>\n",
       "      <td>None</td>\n",
       "      <td>0</td>\n",
       "      <td>None</td>\n",
       "      <td>0</td>\n",
       "      <td>[]</td>\n",
       "    </tr>\n",
       "    <tr>\n",
       "      <th>3</th>\n",
       "      <td>0</td>\n",
       "      <td>0</td>\n",
       "      <td>0</td>\n",
       "      <td>False</td>\n",
       "      <td>0</td>\n",
       "      <td>1</td>\n",
       "      <td>False</td>\n",
       "      <td>Stop Sale Hesperia DOTW</td>\n",
       "      <td>CDH-31979</td>\n",
       "      <td>aday.herreraplasencia@grupoveci.es</td>\n",
       "      <td>...</td>\n",
       "      <td>2024-12-20</td>\n",
       "      <td>2025-02-20</td>\n",
       "      <td>0</td>\n",
       "      <td>None</td>\n",
       "      <td>0</td>\n",
       "      <td>None</td>\n",
       "      <td>0</td>\n",
       "      <td>None</td>\n",
       "      <td>0</td>\n",
       "      <td>None</td>\n",
       "    </tr>\n",
       "    <tr>\n",
       "      <th>4</th>\n",
       "      <td>0</td>\n",
       "      <td>0</td>\n",
       "      <td>0</td>\n",
       "      <td>False</td>\n",
       "      <td>0</td>\n",
       "      <td>1</td>\n",
       "      <td>False</td>\n",
       "      <td>Blocked Provider for Hotel 1871350</td>\n",
       "      <td>Automatic providers blocked algorithm.</td>\n",
       "      <td>AzureFunctions</td>\n",
       "      <td>...</td>\n",
       "      <td>None</td>\n",
       "      <td>None</td>\n",
       "      <td>0</td>\n",
       "      <td>None</td>\n",
       "      <td>0</td>\n",
       "      <td>None</td>\n",
       "      <td>0</td>\n",
       "      <td>None</td>\n",
       "      <td>0</td>\n",
       "      <td>None</td>\n",
       "    </tr>\n",
       "  </tbody>\n",
       "</table>\n",
       "<p>5 rows × 44 columns</p>\n",
       "</div>"
      ],
      "text/plain": [
       "   refundable  rate  max_release  dynamic_commission  age  edit_state  \\\n",
       "0           0     0            0               False    0           1   \n",
       "1           0     0            0               False    0           1   \n",
       "2           0     0            0               False    0           1   \n",
       "3           0     0            0               False    0           1   \n",
       "4           0     0            0               False    0           1   \n",
       "\n",
       "   obsolete                                               name  \\\n",
       "0     False  Cerrado todo menos retail - Hotel Regente / Av...   \n",
       "1     False                  Blocked Provider for Hotel 113841   \n",
       "2     False                      Falkensteiner Resort Capo Boi   \n",
       "3     False                           Stop Sale Hesperia DOTW    \n",
       "4     False                 Blocked Provider for Hotel 1871350   \n",
       "\n",
       "                                         description  \\\n",
       "0  CDH-3221\\nCDH-3624\\n CDH-3222\\n+ Huizhi\\nCDH-2...   \n",
       "1             Automatic providers blocked algorithm.   \n",
       "2                      Requested by Mario 07/02/2020   \n",
       "3                                          CDH-31979   \n",
       "4             Automatic providers blocked algorithm.   \n",
       "\n",
       "                           updated_by  ... booking_date_from  booking_date_to  \\\n",
       "0         jesus.aenlle@traveltino.com  ...              None             None   \n",
       "1                      AzureFunctions  ...              None             None   \n",
       "2    pau.cespedes@logitravelgroup.com  ...              None             None   \n",
       "3  aday.herreraplasencia@grupoveci.es  ...        2024-12-20       2025-02-20   \n",
       "4                      AzureFunctions  ...              None             None   \n",
       "\n",
       "  days_of_week_level  days_of_week_list  room_level  room_list  \\\n",
       "0                  0               None           0       None   \n",
       "1                  0               None           0       None   \n",
       "2                  0               None           0       None   \n",
       "3                  0               None           0       None   \n",
       "4                  0               None           0       None   \n",
       "\n",
       "   num_of_nights_level num_of_nights_list  hours_level hours_list  \n",
       "0                    0               None            0       None  \n",
       "1                    0               None            0       None  \n",
       "2                    0               None            0         []  \n",
       "3                    0               None            0       None  \n",
       "4                    0               None            0       None  \n",
       "\n",
       "[5 rows x 44 columns]"
      ]
     },
     "execution_count": 9,
     "metadata": {},
     "output_type": "execute_result"
    }
   ],
   "source": [
    "df_rules.head()"
   ]
  },
  {
   "cell_type": "code",
   "execution_count": 10,
   "id": "814af8ff-5be9-4db9-95ab-bb040f3598d2",
   "metadata": {},
   "outputs": [],
   "source": [
    "# clients_credential from discovery\n",
    "\n",
    "cc = aliased(db.clients_credential)\n",
    "df_credentials = pd.read_sql(\n",
    "    sql=select(cc.c.id.label(\"credential_id\"), cc.c.enabled), con=db.engine.connect()\n",
    ")"
   ]
  },
  {
   "cell_type": "code",
   "execution_count": 11,
   "id": "7318ef33-bd0a-4605-ac41-bcec61eff0ee",
   "metadata": {},
   "outputs": [],
   "source": [
    "# fitler for tags empty, product, customer request and credential list\n",
    "\n",
    "df_rules_filtered = df_rules[\n",
    "    (df_rules[\"credential_level\"] == 1) & (df_rules[\"tag\"].isin([-1, 1, 3]))\n",
    "]\n",
    "df_rules_expanded = df_rules_filtered.explode(\"credential_list\").reset_index(drop=True)"
   ]
  },
  {
   "cell_type": "code",
   "execution_count": 12,
   "id": "4040224d-a0b6-45c4-a6a4-e72043d88886",
   "metadata": {},
   "outputs": [
    {
     "data": {
      "text/plain": [
       "(1200, 44)"
      ]
     },
     "execution_count": 12,
     "metadata": {},
     "output_type": "execute_result"
    }
   ],
   "source": [
    "df_rules_filtered.shape"
   ]
  },
  {
   "cell_type": "code",
   "execution_count": 13,
   "id": "72230b79-888a-4532-8594-afe7e8e1b75b",
   "metadata": {},
   "outputs": [],
   "source": [
    "df_rules_expanded[\"credential_id\"] = df_rules_expanded[\"credential_list\"]\n",
    "df_rules_expanded = df_rules_expanded.merge(\n",
    "    df_credentials, on=\"credential_id\", how=\"left\"\n",
    ")"
   ]
  },
  {
   "cell_type": "code",
   "execution_count": 14,
   "id": "593aa4b3-0230-44a0-bfb8-619b741d5e66",
   "metadata": {},
   "outputs": [
    {
     "data": {
      "text/plain": [
       "(164536, 46)"
      ]
     },
     "execution_count": 14,
     "metadata": {},
     "output_type": "execute_result"
    }
   ],
   "source": [
    "df_rules_expanded.shape"
   ]
  },
  {
   "cell_type": "code",
   "execution_count": 15,
   "id": "b82172d2-feff-4776-bcc6-5289e58f73bb",
   "metadata": {},
   "outputs": [],
   "source": [
    "df_regrouped = (\n",
    "    df_rules_expanded.groupby(\"id\")\n",
    "    .agg(\n",
    "        credential_count=(\"credential_id\", \"count\"),\n",
    "        enabled=(\"enabled\", lambda x: (x == True).sum()),\n",
    "        disabled=(\"enabled\", lambda x: (x == False).sum()),\n",
    "    )\n",
    "    .reset_index()\n",
    ")\n",
    "\n",
    "df_regrouped[\"disabled_percentage\"] = (df_regrouped[\"disabled\"] * 100.0) / df_regrouped[\n",
    "    \"credential_count\"\n",
    "]\n",
    "df_regrouped = df_regrouped[df_regrouped[\"disabled_percentage\"] == 100]"
   ]
  },
  {
   "cell_type": "code",
   "execution_count": 16,
   "id": "8af6d91f-30ef-45b2-808f-3e1485cf51f5",
   "metadata": {},
   "outputs": [],
   "source": [
    "df_rules_inactive_creds = df_rules_filtered.merge(df_regrouped, on=\"id\", how=\"right\")"
   ]
  },
  {
   "cell_type": "code",
   "execution_count": 17,
   "id": "e9ef989e-120a-428e-8ac7-ad74afd6bd28",
   "metadata": {},
   "outputs": [
    {
     "data": {
      "text/plain": [
       "(5, 48)"
      ]
     },
     "execution_count": 17,
     "metadata": {},
     "output_type": "execute_result"
    }
   ],
   "source": [
    "df_rules_inactive_creds.shape"
   ]
  },
  {
   "cell_type": "code",
   "execution_count": 18,
   "id": "adec97df-059f-4668-8679-eae46524d316",
   "metadata": {},
   "outputs": [
    {
     "data": {
      "text/plain": [
       "['1580', '198662', '575756', '647824', '659340']"
      ]
     },
     "execution_count": 18,
     "metadata": {},
     "output_type": "execute_result"
    }
   ],
   "source": [
    "rule_ids = list(df_regrouped[\"id\"])\n",
    "rule_ids"
   ]
  },
  {
   "cell_type": "code",
   "execution_count": 21,
   "id": "67a12848-6900-4205-a110-c74b3061552b",
   "metadata": {},
   "outputs": [
    {
     "name": "stdout",
     "output_type": "stream",
     "text": [
      "Rules deleted successfully.\n"
     ]
    }
   ],
   "source": [
    "# Uncomment to delete\n",
    "# deleted_rules = api.delete_rules(rule_ids)"
   ]
  },
  {
   "cell_type": "code",
   "execution_count": 19,
   "id": "409866e7-7918-411f-a3c8-810febef10aa",
   "metadata": {},
   "outputs": [],
   "source": [
    "# df_rules_inactive_creds.to_csv(\n",
    "#     f\"deleted_rules_{datetime.today().strftime('%Y%m%d_%H%M%S')}_with_inactive_creds.csv\",\n",
    "#     index=False,\n",
    "# )"
   ]
  },
  {
   "cell_type": "code",
   "execution_count": null,
   "id": "4d71e8bd-678e-4904-8dd7-a450bc601b4a",
   "metadata": {},
   "outputs": [],
   "source": []
  }
 ],
 "metadata": {
  "kernelspec": {
   "display_name": "Python 3 (ipykernel)",
   "language": "python",
   "name": "python3"
  },
  "language_info": {
   "codemirror_mode": {
    "name": "ipython",
    "version": 3
   },
   "file_extension": ".py",
   "mimetype": "text/x-python",
   "name": "python",
   "nbconvert_exporter": "python",
   "pygments_lexer": "ipython3",
   "version": "3.11.6"
  }
 },
 "nbformat": 4,
 "nbformat_minor": 5
}
