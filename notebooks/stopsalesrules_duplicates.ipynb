{
 "cells": [
  {
   "cell_type": "code",
   "execution_count": 1,
   "id": "5f3a8e25-0a8b-4d6b-86ac-1251d0e89283",
   "metadata": {},
   "outputs": [],
   "source": [
    "import json\n",
    "from datetime import datetime\n",
    "from pathlib import Path\n",
    "\n",
    "import pandas as pd\n",
    "import requests\n",
    "from sqlalchemy import select\n",
    "from sqlalchemy.orm import aliased\n",
    "\n",
    "from database import Database\n",
    "from utils import DistributorApi"
   ]
  },
  {
   "cell_type": "code",
   "execution_count": 2,
   "id": "0891d585-189f-485d-97ee-a165ff995b22",
   "metadata": {},
   "outputs": [],
   "source": [
    "base_dir = Path(\".\").resolve()\n",
    "data_dir = base_dir / \"data\""
   ]
  },
  {
   "cell_type": "code",
   "execution_count": 3,
   "id": "3e222e6d-6120-4abc-9558-5545b9375448",
   "metadata": {},
   "outputs": [],
   "source": [
    "api = DistributorApi()"
   ]
  },
  {
   "cell_type": "code",
   "execution_count": 4,
   "id": "8ba2c121-ee74-4acd-99c7-053b140d6a67",
   "metadata": {},
   "outputs": [],
   "source": [
    "rules = api.get_all_rules()\n",
    "df_rules = pd.json_normalize(rules, sep=\"_\")\n",
    "df_rules = df_rules[\n",
    "    [\n",
    "        \"id\",\n",
    "        \"name\",\n",
    "        \"description\",\n",
    "        \"tag\",\n",
    "        \"edit_state\",\n",
    "        \"obsolete\",\n",
    "        \"updated_by\",\n",
    "        \"updated_on\",\n",
    "        \"credential_level\",\n",
    "        \"credential_list\",\n",
    "        \"provider_level\",\n",
    "        \"provider_list\",\n",
    "        \"hotel_level\",\n",
    "        \"hotel_list\",\n",
    "        \"destination_level\",\n",
    "        \"destination_list\",\n",
    "        \"rate\",\n",
    "        \"refundable\",\n",
    "        \"market_level\",\n",
    "        \"market_list\",\n",
    "        \"meal_level\",\n",
    "        \"meal_list\",\n",
    "        \"check_in_level\",\n",
    "        \"check_in_from\",\n",
    "        \"check_in_to\",\n",
    "        \"booking_date_level\",\n",
    "        \"booking_date_from\",\n",
    "        \"booking_date_to\",\n",
    "        \"range_level\",\n",
    "        \"range_from\",\n",
    "        \"range_to\",\n",
    "        \"max_release\",\n",
    "        \"days_of_week_level\",\n",
    "        \"days_of_week_list\",\n",
    "        \"age\",\n",
    "        \"room_level\",\n",
    "        \"room_list\",\n",
    "        \"num_of_nights_level\",\n",
    "        \"num_of_nights_list\",\n",
    "        \"hours_level\",\n",
    "        \"hours_list\",\n",
    "        \"dynamic_commission\",\n",
    "    ]\n",
    "]"
   ]
  },
  {
   "cell_type": "code",
   "execution_count": 5,
   "id": "b048880a-5f38-462f-bbbd-52d6ed448a14",
   "metadata": {},
   "outputs": [],
   "source": [
    "filter = (\n",
    "    (df_rules[\"tag\"].isin([-1, 1, 3]))  # empty, product, customer request\n",
    "    & (df_rules[\"credential_level\"] == 1)  # list of credentials only\n",
    "    & (df_rules[\"provider_level\"] == 1)  # list of providers only\n",
    "    & (df_rules[\"hotel_level\"] == 1)  # list of hotels only\n",
    "    & (df_rules[\"destination_level\"] == 0)  # all\n",
    "    & (df_rules[\"rate\"] == 0)  # all\n",
    "    & (df_rules[\"refundable\"] == 0)  # all\n",
    "    & (df_rules[\"market_level\"] == 0)  # all\n",
    "    & (df_rules[\"meal_level\"] == 0)  # all\n",
    "    & (df_rules[\"check_in_level\"] == 0)  # all\n",
    "    & (df_rules[\"booking_date_level\"] == 0)  # all\n",
    "    & (df_rules[\"range_level\"] == 0)  # all\n",
    "    & (df_rules[\"max_release\"] == 0)  # all\n",
    "    & (df_rules[\"days_of_week_level\"] == 0)  # all\n",
    "    & (df_rules[\"age\"] == 0)  # all\n",
    "    & (df_rules[\"room_level\"] == 0)  # all\n",
    "    & (df_rules[\"num_of_nights_level\"] == 0)  # all\n",
    "    & (df_rules[\"hours_level\"] == 0)  # all\n",
    ")"
   ]
  },
  {
   "cell_type": "code",
   "execution_count": 21,
   "id": "f8103c3b-5901-42fa-b93b-4ddea9dabf6f",
   "metadata": {},
   "outputs": [
    {
     "data": {
      "text/plain": [
       "(621, 42)"
      ]
     },
     "execution_count": 21,
     "metadata": {},
     "output_type": "execute_result"
    }
   ],
   "source": [
    "df_rules_filtered = df_rules[filter].copy()\n",
    "df_rules_filtered.shape"
   ]
  },
  {
   "cell_type": "code",
   "execution_count": 22,
   "id": "18a57b94-c33d-4a26-92db-e3c281e579fa",
   "metadata": {},
   "outputs": [],
   "source": [
    "df_rules_filtered[\"credential_count\"] = df_rules_filtered[\n",
    "    \"credential_list\"\n",
    "].apply(len)\n",
    "df_rules_filtered[\"provider_count\"] = df_rules_filtered[\"provider_list\"].apply(\n",
    "    len\n",
    ")\n",
    "df_rules_filtered[\"hotel_count\"] = df_rules_filtered[\"hotel_list\"].apply(len)"
   ]
  },
  {
   "cell_type": "code",
   "execution_count": 23,
   "id": "a682a419-7a8a-4436-9dab-09467e8f2ed7",
   "metadata": {},
   "outputs": [],
   "source": [
    "df_rules_filtered[\"cartesian\"] = (\n",
    "    df_rules_filtered[\"credential_count\"]\n",
    "    * df_rules_filtered[\"provider_count\"]\n",
    "    * df_rules_filtered[\"hotel_count\"]\n",
    ")\n",
    "df_rules_filtered = df_rules_filtered.sort_values(\n",
    "    by=\"cartesian\", ascending=False\n",
    ")"
   ]
  },
  {
   "cell_type": "code",
   "execution_count": 24,
   "id": "b8972e81-f039-4294-816a-33f48c25a609",
   "metadata": {},
   "outputs": [
    {
     "data": {
      "text/plain": [
       "(1924453, 46)"
      ]
     },
     "execution_count": 24,
     "metadata": {},
     "output_type": "execute_result"
    }
   ],
   "source": [
    "df_exploded = (\n",
    "    df_rules_filtered.explode(\"credential_list\")\n",
    "    .explode(\"provider_list\")\n",
    "    .explode(\"hotel_list\")\n",
    ")\n",
    "df_exploded.shape"
   ]
  },
  {
   "cell_type": "code",
   "execution_count": 25,
   "id": "947a150d-0a5e-4e2a-9aa2-0cd02b27e1ef",
   "metadata": {},
   "outputs": [],
   "source": [
    "df_exploded[\"combination_zip\"] = list(\n",
    "    zip(\n",
    "        df_exploded[\"credential_list\"],\n",
    "        df_exploded[\"provider_list\"],\n",
    "        df_exploded[\"hotel_list\"],\n",
    "    )\n",
    ")"
   ]
  },
  {
   "cell_type": "code",
   "execution_count": 26,
   "id": "17052ecf-6cb8-4297-a036-cbe1961ee7e6",
   "metadata": {},
   "outputs": [],
   "source": [
    "df_exploded[\"is_duplicate\"] = df_exploded.duplicated(\n",
    "    subset=\"combination_zip\", keep=False\n",
    ")"
   ]
  },
  {
   "cell_type": "code",
   "execution_count": 27,
   "id": "21f2d857-43ec-4f2b-bc2e-50723f505ae0",
   "metadata": {},
   "outputs": [],
   "source": [
    "duplicate_ids = (\n",
    "    df_exploded[df_exploded[\"is_duplicate\"]]\n",
    "    .groupby(\"combination_zip\")[\"id\"]\n",
    "    .apply(list)\n",
    "    .reset_index(name=\"duplicate_ids\")\n",
    ")"
   ]
  },
  {
   "cell_type": "code",
   "execution_count": 28,
   "id": "9c5a2564-599e-4b12-a46b-291d326f7b42",
   "metadata": {},
   "outputs": [],
   "source": [
    "df_exploded = df_exploded.merge(\n",
    "    duplicate_ids, on=\"combination_zip\", how=\"left\"\n",
    ")"
   ]
  },
  {
   "cell_type": "code",
   "execution_count": 29,
   "id": "32333df3-edcd-4b9c-80f2-7bbf98752af7",
   "metadata": {},
   "outputs": [],
   "source": [
    "duplicates = df_exploded[df_exploded[\"is_duplicate\"]]\n",
    "duplicates = (\n",
    "    duplicates.groupby(\"id\")\n",
    "    .agg(\n",
    "        {\n",
    "            \"credential_list\": lambda x: list(set(x)),\n",
    "            \"provider_list\": lambda x: list(set(x)),\n",
    "            \"hotel_list\": lambda x: list(set(x)),\n",
    "            \"duplicate_ids\": \"first\",\n",
    "        }\n",
    "    )\n",
    "    .reset_index()\n",
    ")"
   ]
  },
  {
   "cell_type": "code",
   "execution_count": 30,
   "id": "5389b30b-ebdc-4165-903f-230a9f730b3a",
   "metadata": {},
   "outputs": [],
   "source": [
    "df_stopsales[\"chain_id\"] = df_stopsales[\"chain_id\"].apply(\n",
    "    lambda x: [int(i) for i in x if i.isdigit()]\n",
    ")"
   ]
  },
  {
   "cell_type": "code",
   "execution_count": 31,
   "id": "0cf7e39a-ba4b-45f5-8ca5-c1e629eeb3af",
   "metadata": {},
   "outputs": [],
   "source": [
    "df_exploded = (\n",
    "    df_exploded.groupby(\"id\")\n",
    "    .agg(\n",
    "        {\n",
    "            \"credential_list\": lambda x: list(set(x)),\n",
    "            \"provider_list\": lambda x: list(set(x)),\n",
    "            \"hotel_list\": lambda x: list(set(x)),\n",
    "        }\n",
    "    )\n",
    "    .reset_index()\n",
    ")"
   ]
  },
  {
   "cell_type": "code",
   "execution_count": 32,
   "id": "113cfad8-6228-4dba-a7ef-aa75b78f44b8",
   "metadata": {},
   "outputs": [],
   "source": [
    "df_duplicates = df_rules_filtered.merge(\n",
    "    df_exploded[[\"id\"]], on=\"id\", how=\"left\", indicator=True\n",
    ").merge(duplicates[[\"id\", \"duplicate_ids\"]], on=\"id\", how=\"left\")"
   ]
  },
  {
   "cell_type": "code",
   "execution_count": 33,
   "id": "4162564b-78b2-4b53-bbe2-7da12d07d246",
   "metadata": {},
   "outputs": [],
   "source": [
    "df_duplicates.insert(0, \"duplicate_ids\", df_duplicates.pop(\"duplicate_ids\"))"
   ]
  },
  {
   "cell_type": "code",
   "execution_count": 35,
   "id": "7d7d56a0-9a5d-4cf2-a3c8-614f4e005895",
   "metadata": {},
   "outputs": [],
   "source": [
    "df_duplicates = df_duplicates.loc[df_duplicates[\"_merge\"] == \"left_only\"]"
   ]
  },
  {
   "cell_type": "code",
   "execution_count": 38,
   "id": "269c40dc-82eb-494a-86e8-7b6cb9670230",
   "metadata": {},
   "outputs": [
    {
     "data": {
      "text/plain": [
       "['395491',\n",
       " '395712',\n",
       " '395024',\n",
       " '492763',\n",
       " '485148',\n",
       " '194830',\n",
       " '395320',\n",
       " '506835',\n",
       " '394034',\n",
       " '394199',\n",
       " '394520',\n",
       " '394921',\n",
       " '394289',\n",
       " '394645',\n",
       " '394449',\n",
       " '202768',\n",
       " '299384',\n",
       " '395800',\n",
       " '90068',\n",
       " '180758']"
      ]
     },
     "execution_count": 38,
     "metadata": {},
     "output_type": "execute_result"
    }
   ],
   "source": [
    "rule_ids = list(df_duplicates[\"id\"])\n",
    "rule_ids"
   ]
  },
  {
   "cell_type": "code",
   "execution_count": 39,
   "id": "ae14ee70-f895-43f1-8d90-ec2c3a819c8c",
   "metadata": {},
   "outputs": [
    {
     "name": "stdout",
     "output_type": "stream",
     "text": [
      "Rules deleted successfully.\n"
     ]
    }
   ],
   "source": [
    "# Uncomment to delete\n",
    "deleted_rules = api.delete_rules(rule_ids)"
   ]
  },
  {
   "cell_type": "code",
   "execution_count": 40,
   "id": "136db45a-4b6a-45f0-bfad-8d08cd2fff8f",
   "metadata": {},
   "outputs": [],
   "source": [
    "df_duplicates.to_csv(\n",
    "    f\"deleted_rules_{datetime.today().strftime('%Y%m%d_%H%M%S')}_duplicates.csv\",\n",
    "    index=False,\n",
    ")"
   ]
  },
  {
   "cell_type": "code",
   "execution_count": null,
   "id": "d28b6f35-dc38-4f43-a5b7-8f853bd0c341",
   "metadata": {},
   "outputs": [],
   "source": []
  }
 ],
 "metadata": {
  "kernelspec": {
   "display_name": "Python 3 (ipykernel)",
   "language": "python",
   "name": "python3"
  },
  "language_info": {
   "codemirror_mode": {
    "name": "ipython",
    "version": 3
   },
   "file_extension": ".py",
   "mimetype": "text/x-python",
   "name": "python",
   "nbconvert_exporter": "python",
   "pygments_lexer": "ipython3",
   "version": "3.11.6"
  }
 },
 "nbformat": 4,
 "nbformat_minor": 5
}
