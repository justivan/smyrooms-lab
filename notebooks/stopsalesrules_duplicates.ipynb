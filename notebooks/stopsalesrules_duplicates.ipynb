{
 "cells": [
  {
   "cell_type": "code",
   "execution_count": 1,
   "id": "5f3a8e25-0a8b-4d6b-86ac-1251d0e89283",
   "metadata": {},
   "outputs": [],
   "source": [
    "import json\n",
    "from datetime import datetime\n",
    "from pathlib import Path\n",
    "\n",
    "import pandas as pd\n",
    "import requests\n",
    "from sqlalchemy import select\n",
    "from sqlalchemy.orm import aliased\n",
    "\n",
    "from database import Database\n",
    "from utils import DistributorApi"
   ]
  },
  {
   "cell_type": "code",
   "execution_count": 2,
   "id": "0891d585-189f-485d-97ee-a165ff995b22",
   "metadata": {},
   "outputs": [],
   "source": [
    "base_dir = Path(\".\").resolve()\n",
    "data_dir = base_dir / \"data\""
   ]
  },
  {
   "cell_type": "code",
   "execution_count": 3,
   "id": "3e222e6d-6120-4abc-9558-5545b9375448",
   "metadata": {},
   "outputs": [],
   "source": [
    "api = DistributorApi()"
   ]
  },
  {
   "cell_type": "code",
   "execution_count": 4,
   "id": "8ba2c121-ee74-4acd-99c7-053b140d6a67",
   "metadata": {},
   "outputs": [],
   "source": [
    "rules = api.get_all_rules()\n",
    "df_rules = pd.json_normalize(rules, sep=\"_\")\n",
    "df_rules = df_rules[\n",
    "    [\n",
    "        \"id\",\n",
    "        \"name\",\n",
    "        \"description\",\n",
    "        \"tag\",\n",
    "        \"edit_state\",\n",
    "        \"obsolete\",\n",
    "        \"updated_by\",\n",
    "        \"updated_on\",\n",
    "        \"credential_level\",\n",
    "        \"credential_list\",\n",
    "        \"provider_level\",\n",
    "        \"provider_list\",\n",
    "        \"hotel_level\",\n",
    "        \"hotel_list\",\n",
    "        \"destination_level\",\n",
    "        \"destination_list\",\n",
    "        \"rate\",\n",
    "        \"refundable\",\n",
    "        \"market_level\",\n",
    "        \"market_list\",\n",
    "        \"meal_level\",\n",
    "        \"meal_list\",\n",
    "        \"check_in_level\",\n",
    "        \"check_in_from\",\n",
    "        \"check_in_to\",\n",
    "        \"booking_date_level\",\n",
    "        \"booking_date_from\",\n",
    "        \"booking_date_to\",\n",
    "        \"range_level\",\n",
    "        \"range_from\",\n",
    "        \"range_to\",\n",
    "        \"max_release\",\n",
    "        \"days_of_week_level\",\n",
    "        \"days_of_week_list\",\n",
    "        \"age\",\n",
    "        \"room_level\",\n",
    "        \"room_list\",\n",
    "        \"num_of_nights_level\",\n",
    "        \"num_of_nights_list\",\n",
    "        \"hours_level\",\n",
    "        \"hours_list\",\n",
    "        \"dynamic_commission\",\n",
    "    ]\n",
    "]"
   ]
  },
  {
   "cell_type": "code",
   "execution_count": 5,
   "id": "b048880a-5f38-462f-bbbd-52d6ed448a14",
   "metadata": {},
   "outputs": [],
   "source": [
    "filter = (\n",
    "    (df_rules[\"tag\"].isin([-1, 1, 3]))  # empty, product, customer request\n",
    "    & (df_rules[\"credential_level\"] == 1)  # list of credentials only\n",
    "    & (df_rules[\"provider_level\"] == 1)  # list of providers only\n",
    "    & (df_rules[\"hotel_level\"] == 1)  # list of hotels only\n",
    "    & (df_rules[\"destination_level\"] == 0)  # all\n",
    "    & (df_rules[\"rate\"] == 0)  # all\n",
    "    & (df_rules[\"refundable\"] == 0)  # all\n",
    "    & (df_rules[\"market_level\"] == 0)  # all\n",
    "    & (df_rules[\"meal_level\"] == 0)  # all\n",
    "    & (df_rules[\"check_in_level\"] == 0)  # all\n",
    "    & (df_rules[\"booking_date_level\"] == 0)  # all\n",
    "    & (df_rules[\"range_level\"] == 0)  # all\n",
    "    & (df_rules[\"max_release\"] == 0)  # all\n",
    "    & (df_rules[\"days_of_week_level\"] == 0)  # all\n",
    "    & (df_rules[\"age\"] == 0)  # all\n",
    "    & (df_rules[\"room_level\"] == 0)  # all\n",
    "    & (df_rules[\"num_of_nights_level\"] == 0)  # all\n",
    "    & (df_rules[\"hours_level\"] == 0)  # all\n",
    ")"
   ]
  },
  {
   "cell_type": "code",
   "execution_count": 6,
   "id": "f8103c3b-5901-42fa-b93b-4ddea9dabf6f",
   "metadata": {},
   "outputs": [
    {
     "data": {
      "text/plain": [
       "(622, 42)"
      ]
     },
     "execution_count": 6,
     "metadata": {},
     "output_type": "execute_result"
    }
   ],
   "source": [
    "df_rules_filtered = df_rules[filter].copy()\n",
    "df_rules_filtered.shape"
   ]
  },
  {
   "cell_type": "code",
   "execution_count": 7,
   "id": "18a57b94-c33d-4a26-92db-e3c281e579fa",
   "metadata": {},
   "outputs": [],
   "source": [
    "df_rules_filtered[\"credential_count\"] = df_rules_filtered[\"credential_list\"].apply(len)\n",
    "df_rules_filtered[\"provider_count\"] = df_rules_filtered[\"provider_list\"].apply(len)\n",
    "df_rules_filtered[\"hotel_count\"] = df_rules_filtered[\"hotel_list\"].apply(len)"
   ]
  },
  {
   "cell_type": "code",
   "execution_count": 8,
   "id": "a682a419-7a8a-4436-9dab-09467e8f2ed7",
   "metadata": {},
   "outputs": [],
   "source": [
    "df_rules_filtered[\"cartesian\"] = (\n",
    "    df_rules_filtered[\"credential_count\"]\n",
    "    * df_rules_filtered[\"provider_count\"]\n",
    "    * df_rules_filtered[\"hotel_count\"]\n",
    ")\n",
    "df_rules_filtered = df_rules_filtered.sort_values(by=\"cartesian\", ascending=False)"
   ]
  },
  {
   "cell_type": "code",
   "execution_count": 9,
   "id": "b8972e81-f039-4294-816a-33f48c25a609",
   "metadata": {},
   "outputs": [
    {
     "data": {
      "text/plain": [
       "(1924669, 46)"
      ]
     },
     "execution_count": 9,
     "metadata": {},
     "output_type": "execute_result"
    }
   ],
   "source": [
    "df_exploded = (\n",
    "    df_rules_filtered.explode(\"credential_list\")\n",
    "    .explode(\"provider_list\")\n",
    "    .explode(\"hotel_list\")\n",
    ")\n",
    "df_exploded.shape"
   ]
  },
  {
   "cell_type": "code",
   "execution_count": 10,
   "id": "947a150d-0a5e-4e2a-9aa2-0cd02b27e1ef",
   "metadata": {},
   "outputs": [],
   "source": [
    "df_exploded[\"combination_zip\"] = list(\n",
    "    zip(\n",
    "        df_exploded[\"credential_list\"],\n",
    "        df_exploded[\"provider_list\"],\n",
    "        df_exploded[\"hotel_list\"],\n",
    "    )\n",
    ")"
   ]
  },
  {
   "cell_type": "code",
   "execution_count": 11,
   "id": "5389b30b-ebdc-4165-903f-230a9f730b3a",
   "metadata": {},
   "outputs": [],
   "source": [
    "df_exploded.drop_duplicates(subset=[\"combination_zip\"], keep=\"first\", inplace=True)"
   ]
  },
  {
   "cell_type": "code",
   "execution_count": 12,
   "id": "0cf7e39a-ba4b-45f5-8ca5-c1e629eeb3af",
   "metadata": {},
   "outputs": [],
   "source": [
    "df_exploded = (\n",
    "    df_exploded.groupby(\"id\")\n",
    "    .agg(\n",
    "        {\n",
    "            \"credential_list\": lambda x: list(set(x)),\n",
    "            \"provider_list\": lambda x: list(set(x)),\n",
    "            \"hotel_list\": lambda x: list(set(x)),\n",
    "        }\n",
    "    )\n",
    "    .reset_index()\n",
    ")"
   ]
  },
  {
   "cell_type": "code",
   "execution_count": 13,
   "id": "113cfad8-6228-4dba-a7ef-aa75b78f44b8",
   "metadata": {},
   "outputs": [],
   "source": [
    "df_duplicates = df_rules_filtered.merge(\n",
    "    df_exploded, on=\"id\", how=\"left\", indicator=True\n",
    ")"
   ]
  },
  {
   "cell_type": "code",
   "execution_count": 14,
   "id": "744d9c5e-23b9-4015-9d47-f6fd2d6c57de",
   "metadata": {},
   "outputs": [],
   "source": [
    "df_duplicates.to_csv(\"df_duplicates.csv\", index=False)"
   ]
  },
  {
   "cell_type": "code",
   "execution_count": null,
   "id": "9a3d948a-84fa-440e-812d-2638fcf84963",
   "metadata": {},
   "outputs": [],
   "source": []
  }
 ],
 "metadata": {
  "kernelspec": {
   "display_name": "Python 3 (ipykernel)",
   "language": "python",
   "name": "python3"
  },
  "language_info": {
   "codemirror_mode": {
    "name": "ipython",
    "version": 3
   },
   "file_extension": ".py",
   "mimetype": "text/x-python",
   "name": "python",
   "nbconvert_exporter": "python",
   "pygments_lexer": "ipython3",
   "version": "3.11.6"
  }
 },
 "nbformat": 4,
 "nbformat_minor": 5
}
